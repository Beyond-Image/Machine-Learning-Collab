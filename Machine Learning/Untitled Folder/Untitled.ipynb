{
 "cells": [
  {
   "cell_type": "code",
   "execution_count": 2,
   "id": "2d59a74e",
   "metadata": {},
   "outputs": [],
   "source": [
    "import numpy\n"
   ]
  },
  {
   "cell_type": "code",
   "execution_count": 9,
   "id": "5d46aa25",
   "metadata": {},
   "outputs": [
    {
     "name": "stdout",
     "output_type": "stream",
     "text": [
      "140.5\n",
      "155.0\n",
      "181.75\n"
     ]
    }
   ],
   "source": [
    "data = [186, 181, 176, 149, 184, 190, 158, 139, 175, 148, 1512, 111, 141, 153, 190, 157, 131, 149, 135, 132]\n",
    "\n",
    "quart = numpy.percentile(data, [25, 50, 75])\n",
    "print(quart[0])\n",
    "print(quart[1])\n",
    "print(quart[2])"
   ]
  },
  {
   "cell_type": "code",
   "execution_count": 18,
   "id": "f4d6ef0d",
   "metadata": {},
   "outputs": [
    {
     "name": "stdout",
     "output_type": "stream",
     "text": [
      "18.75\n",
      "20.5\n",
      "22.25\n"
     ]
    }
   ],
   "source": [
    "data2 = [18, 20, 24, 21, 5, 23, 19, 22]\n",
    "\n",
    "quart_2 = numpy.percentile(data2, [25, 50, 75])\n",
    "print(quart_2[0])\n",
    "print(quart_2[1])\n",
    "print(quart_2[2])"
   ]
  },
  {
   "cell_type": "code",
   "execution_count": 33,
   "id": "4b194740",
   "metadata": {},
   "outputs": [
    {
     "data": {
      "text/plain": [
       "64.5"
      ]
     },
     "execution_count": 33,
     "metadata": {},
     "output_type": "execute_result"
    }
   ],
   "source": [
    "43*1.5"
   ]
  }
 ],
 "metadata": {
  "kernelspec": {
   "display_name": "Python 3",
   "language": "python",
   "name": "python3"
  },
  "language_info": {
   "codemirror_mode": {
    "name": "ipython",
    "version": 3
   },
   "file_extension": ".py",
   "mimetype": "text/x-python",
   "name": "python",
   "nbconvert_exporter": "python",
   "pygments_lexer": "ipython3",
   "version": "3.6.2"
  }
 },
 "nbformat": 4,
 "nbformat_minor": 5
}
