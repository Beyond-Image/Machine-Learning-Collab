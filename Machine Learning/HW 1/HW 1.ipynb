{
 "cells": [
  {
   "cell_type": "markdown",
   "id": "fc6fe1d2",
   "metadata": {},
   "source": [
    "# Import libraries and Dataset"
   ]
  },
  {
   "cell_type": "code",
   "execution_count": 196,
   "id": "b76198c5",
   "metadata": {},
   "outputs": [
    {
     "data": {
      "text/html": [
       "<div>\n",
       "<style scoped>\n",
       "    .dataframe tbody tr th:only-of-type {\n",
       "        vertical-align: middle;\n",
       "    }\n",
       "\n",
       "    .dataframe tbody tr th {\n",
       "        vertical-align: top;\n",
       "    }\n",
       "\n",
       "    .dataframe thead th {\n",
       "        text-align: right;\n",
       "    }\n",
       "</style>\n",
       "<table border=\"1\" class=\"dataframe\">\n",
       "  <thead>\n",
       "    <tr style=\"text-align: right;\">\n",
       "      <th></th>\n",
       "      <th>sepal_length</th>\n",
       "      <th>sepal_width</th>\n",
       "      <th>petal_length</th>\n",
       "      <th>petal_width</th>\n",
       "      <th>species</th>\n",
       "    </tr>\n",
       "  </thead>\n",
       "  <tbody>\n",
       "    <tr>\n",
       "      <th>0</th>\n",
       "      <td>5.1</td>\n",
       "      <td>3.5</td>\n",
       "      <td>1.4</td>\n",
       "      <td>0.2</td>\n",
       "      <td>setosa</td>\n",
       "    </tr>\n",
       "    <tr>\n",
       "      <th>1</th>\n",
       "      <td>4.9</td>\n",
       "      <td>3.0</td>\n",
       "      <td>1.4</td>\n",
       "      <td>0.2</td>\n",
       "      <td>setosa</td>\n",
       "    </tr>\n",
       "    <tr>\n",
       "      <th>2</th>\n",
       "      <td>4.7</td>\n",
       "      <td>3.2</td>\n",
       "      <td>1.3</td>\n",
       "      <td>0.2</td>\n",
       "      <td>setosa</td>\n",
       "    </tr>\n",
       "    <tr>\n",
       "      <th>3</th>\n",
       "      <td>4.6</td>\n",
       "      <td>3.1</td>\n",
       "      <td>1.5</td>\n",
       "      <td>0.2</td>\n",
       "      <td>setosa</td>\n",
       "    </tr>\n",
       "    <tr>\n",
       "      <th>4</th>\n",
       "      <td>5.0</td>\n",
       "      <td>3.6</td>\n",
       "      <td>1.4</td>\n",
       "      <td>0.2</td>\n",
       "      <td>setosa</td>\n",
       "    </tr>\n",
       "    <tr>\n",
       "      <th>...</th>\n",
       "      <td>...</td>\n",
       "      <td>...</td>\n",
       "      <td>...</td>\n",
       "      <td>...</td>\n",
       "      <td>...</td>\n",
       "    </tr>\n",
       "    <tr>\n",
       "      <th>145</th>\n",
       "      <td>6.7</td>\n",
       "      <td>3.0</td>\n",
       "      <td>5.2</td>\n",
       "      <td>2.3</td>\n",
       "      <td>virginica</td>\n",
       "    </tr>\n",
       "    <tr>\n",
       "      <th>146</th>\n",
       "      <td>6.3</td>\n",
       "      <td>2.5</td>\n",
       "      <td>5.0</td>\n",
       "      <td>1.9</td>\n",
       "      <td>virginica</td>\n",
       "    </tr>\n",
       "    <tr>\n",
       "      <th>147</th>\n",
       "      <td>6.5</td>\n",
       "      <td>3.0</td>\n",
       "      <td>5.2</td>\n",
       "      <td>2.0</td>\n",
       "      <td>virginica</td>\n",
       "    </tr>\n",
       "    <tr>\n",
       "      <th>148</th>\n",
       "      <td>6.2</td>\n",
       "      <td>3.4</td>\n",
       "      <td>5.4</td>\n",
       "      <td>2.3</td>\n",
       "      <td>virginica</td>\n",
       "    </tr>\n",
       "    <tr>\n",
       "      <th>149</th>\n",
       "      <td>5.9</td>\n",
       "      <td>3.0</td>\n",
       "      <td>5.1</td>\n",
       "      <td>1.8</td>\n",
       "      <td>virginica</td>\n",
       "    </tr>\n",
       "  </tbody>\n",
       "</table>\n",
       "<p>150 rows × 5 columns</p>\n",
       "</div>"
      ],
      "text/plain": [
       "     sepal_length  sepal_width  petal_length  petal_width    species\n",
       "0             5.1          3.5           1.4          0.2     setosa\n",
       "1             4.9          3.0           1.4          0.2     setosa\n",
       "2             4.7          3.2           1.3          0.2     setosa\n",
       "3             4.6          3.1           1.5          0.2     setosa\n",
       "4             5.0          3.6           1.4          0.2     setosa\n",
       "..            ...          ...           ...          ...        ...\n",
       "145           6.7          3.0           5.2          2.3  virginica\n",
       "146           6.3          2.5           5.0          1.9  virginica\n",
       "147           6.5          3.0           5.2          2.0  virginica\n",
       "148           6.2          3.4           5.4          2.3  virginica\n",
       "149           5.9          3.0           5.1          1.8  virginica\n",
       "\n",
       "[150 rows x 5 columns]"
      ]
     },
     "execution_count": 196,
     "metadata": {},
     "output_type": "execute_result"
    }
   ],
   "source": [
    "import matplotlib.pyplot as plt\n",
    "import numpy as np\n",
    "import pandas as pd\n",
    "from sklearn import svm, datasets\n",
    "from mpl_toolkits.mplot3d import Axes3D\n",
    "\n",
    "from mlxtend.plotting import plot_decision_regions\n",
    "\n",
    "df = pd.read_csv(\"iris_dataset.csv\")\n",
    "df"
   ]
  },
  {
   "cell_type": "markdown",
   "id": "68dc9e1c",
   "metadata": {},
   "source": [
    "# Filtering Dataset"
   ]
  },
  {
   "cell_type": "code",
   "execution_count": 197,
   "id": "20cd55ba",
   "metadata": {
    "scrolled": true
   },
   "outputs": [],
   "source": [
    "q1 = df[[\"sepal_length\", \"petal_length\", \"species\"]]\n",
    "\n",
    "q1 = q1.drop(q1[q1.species == \"setosa\"].index)"
   ]
  },
  {
   "cell_type": "code",
   "execution_count": 198,
   "id": "e74d6f6b",
   "metadata": {},
   "outputs": [],
   "source": [
    "X = q1[[\"sepal_length\", \"petal_length\"]]\n",
    "\n",
    "y = q1['species']\n",
    "# versicolor = -1, virginica = 1\n",
    "y = np.where(y == 'versicolor', -1, 1)"
   ]
  },
  {
   "cell_type": "markdown",
   "id": "fcc9f0ff",
   "metadata": {},
   "source": [
    "#  Making Model"
   ]
  },
  {
   "cell_type": "code",
   "execution_count": 199,
   "id": "90f6b061",
   "metadata": {},
   "outputs": [
    {
     "data": {
      "text/plain": [
       "Perceptron()"
      ]
     },
     "execution_count": 199,
     "metadata": {},
     "output_type": "execute_result"
    }
   ],
   "source": [
    "from sklearn.linear_model import Perceptron\n",
    "from sklearn.metrics import accuracy_score\n",
    "\n",
    "clf = Perceptron()\n",
    "\n",
    "clf.fit(X, y)"
   ]
  },
  {
   "cell_type": "code",
   "execution_count": 200,
   "id": "86df9b33",
   "metadata": {},
   "outputs": [
    {
     "data": {
      "text/plain": [
       "0.8"
      ]
     },
     "execution_count": 200,
     "metadata": {},
     "output_type": "execute_result"
    }
   ],
   "source": [
    "y_pred = clf.predict(X)\n",
    "\n",
    "##accuracy score\n",
    "accuracy_score(y, y_pred)"
   ]
  },
  {
   "cell_type": "code",
   "execution_count": 201,
   "id": "53faf81e",
   "metadata": {},
   "outputs": [
    {
     "data": {
      "text/plain": [
       "array([[-56.5,  74.9]])"
      ]
     },
     "execution_count": 201,
     "metadata": {},
     "output_type": "execute_result"
    }
   ],
   "source": [
    "clf.coef_"
   ]
  },
  {
   "cell_type": "code",
   "execution_count": 202,
   "id": "c3238b26",
   "metadata": {},
   "outputs": [
    {
     "data": {
      "text/plain": [
       "array([-38.])"
      ]
     },
     "execution_count": 202,
     "metadata": {},
     "output_type": "execute_result"
    }
   ],
   "source": [
    "clf.intercept_"
   ]
  },
  {
   "cell_type": "code",
   "execution_count": 203,
   "id": "a9902a33",
   "metadata": {},
   "outputs": [],
   "source": [
    "x_array = X.to_numpy()"
   ]
  },
  {
   "cell_type": "code",
   "execution_count": 204,
   "id": "4f72d4f3",
   "metadata": {},
   "outputs": [
    {
     "data": {
      "text/plain": [
       "Text(0, 0.5, 'petal length')"
      ]
     },
     "execution_count": 204,
     "metadata": {},
     "output_type": "execute_result"
    },
    {
     "data": {
      "image/png": "[encoded data removed]",
      "text/plain": [
       "<Figure size 576x432 with 1 Axes>"
      ]
     },
     "metadata": {
      "needs_background": "light"
     },
     "output_type": "display_data"
    }
   ],
   "source": [
    "plt.figure(figsize = (8, 6))\n",
    "plot_decision_regions(x_array, y, clf = clf)\n",
    "plt.title(\"SK. Perceptron of veris. and virgin.\")\n",
    "plt.xlabel(\"sepal length\", fontsize = 15)\n",
    "plt.ylabel(\"petal length\", fontsize = 15)\n",
    "\n",
    "#please note that versicolor = -1, virginica = 1"
   ]
  },
  {
   "cell_type": "markdown",
   "id": "71a9ed3a",
   "metadata": {},
   "source": [
    "# Perceptron Code for 3 attributes\n"
   ]
  },
  {
   "cell_type": "code",
   "execution_count": 205,
   "id": "6024ec2b",
   "metadata": {},
   "outputs": [],
   "source": [
    "class get_perceptron(object):\n",
    "    def __init__(self, eta = 0.5, epochs = 50):\n",
    "        self.eta = eta\n",
    "        self.epochs = epochs\n",
    "        \n",
    "    def fit(self, X, y):\n",
    "        self.w1 = np.random.rand(1)\n",
    "        self.w2 = np.random.rand(1)\n",
    "        self.w3 = np.random.rand(1)\n",
    "        self.b = np.random.rand(1)\n",
    "        \n",
    "        self.errors = []\n",
    "        \n",
    "        for _ in range(self.epochs):\n",
    "            errors = 0\n",
    "            for xi, yi in zip(X, y):\n",
    "                update = self.eta * (self.predict(xi) - yi)\n",
    "                self.w1 = self.w1 - update*xi[0]\n",
    "                self.w2 = self.w2 - update*xi[1]\n",
    "                self.w3 = self.w3 - update*xi[2]\n",
    "                self.b = self.b - update\n",
    "                errors = errors + int(update != 0)\n",
    "            if errors == 0:\n",
    "                return self\n",
    "            else:\n",
    "                self.errors.append(errors)\n",
    "            \n",
    "        return self\n",
    "    \n",
    "    def weighted_sum(self, x):\n",
    "        self.w = np.array([self.w1, self.w2, self.w3])\n",
    "        return np.dot(x, self.w) + self.b\n",
    "    \n",
    "    def predict(self, x):\n",
    "        return np.where(self.weighted_sum(x) > 0.0, 1, -1)\n",
    "    \n",
    "    def accuracy(self, y_true, y_pred):\n",
    "        accuracy = 0\n",
    "        num_elem = 0\n",
    "        if len(y_true) != len(y_pred):\n",
    "            return\n",
    "        for x in range(len(y_true)):\n",
    "            if y_true[x] == y_pred[x]:\n",
    "                accuracy += 1\n",
    "                num_elem += 1\n",
    "            else:\n",
    "                num_elem += 1\n",
    "        return accuracy/num_elem"
   ]
  },
  {
   "cell_type": "markdown",
   "id": "b156e8b7",
   "metadata": {},
   "source": [
    "# Formating New Dataset For 3 Attributes"
   ]
  },
  {
   "cell_type": "code",
   "execution_count": 206,
   "id": "6732d48b",
   "metadata": {},
   "outputs": [],
   "source": [
    "q2 = df\n",
    "q2 = q2.drop(q2[q2.species == \"virginica\"].index)\n",
    "\n",
    "q2 = q2.drop(columns = ['petal_length'])\n",
    "## attributes are sepal length, width and petal width\n"
   ]
  },
  {
   "cell_type": "code",
   "execution_count": 207,
   "id": "4aeefe67",
   "metadata": {},
   "outputs": [],
   "source": [
    "X = q2.iloc[:, : len(q2.columns)-1].to_numpy()\n",
    "\n",
    "#versicolor is -1 and setosa is 1\n",
    "y = q2['species']\n",
    "y = np.where(y == 'versicolor', -1, 1)"
   ]
  },
  {
   "cell_type": "code",
   "execution_count": 208,
   "id": "1a9341e3",
   "metadata": {},
   "outputs": [],
   "source": [
    "new_clf = get_perceptron()\n",
    "new_clf.fit(X, y)\n",
    "\n",
    "y_pred = new_clf.predict(X).reshape(100)\n"
   ]
  },
  {
   "cell_type": "code",
   "execution_count": 209,
   "id": "bb1b579a",
   "metadata": {},
   "outputs": [
    {
     "name": "stdout",
     "output_type": "stream",
     "text": [
      "1.0\n"
     ]
    }
   ],
   "source": [
    "print(new_clf.accuracy(y, y_pred))"
   ]
  },
  {
   "cell_type": "markdown",
   "id": "b5e44650",
   "metadata": {},
   "source": [
    "# Error Plot and 3D model for points"
   ]
  },
  {
   "cell_type": "code",
   "execution_count": 210,
   "id": "071f6689",
   "metadata": {},
   "outputs": [
    {
     "data": {
      "image/png": "[encoded data removed]",
      "text/plain": [
       "<Figure size 576x432 with 1 Axes>"
      ]
     },
     "metadata": {
      "needs_background": "light"
     },
     "output_type": "display_data"
    }
   ],
   "source": [
    "plt.figure(figsize = (8, 6))\n",
    "plt.plot(range(1, len(new_clf.errors)+1), new_clf.errors, \n",
    "         marker = \"o\")\n",
    "plt.title(\"Error plot\", fontsize = 15)\n",
    "plt.xlabel(\"The number of iterations\", fontsize = 15)\n",
    "plt.ylabel(\"The number of misclassifications\", fontsize = 15)\n",
    "plt.xticks(range(1, len(new_clf.errors)+1))\n",
    "plt.show()"
   ]
  },
  {
   "cell_type": "code",
   "execution_count": 211,
   "id": "0f2a618b",
   "metadata": {},
   "outputs": [
    {
     "data": {
      "text/plain": [
       "Text(0.5, 0, 'petal width')"
      ]
     },
     "execution_count": 211,
     "metadata": {},
     "output_type": "execute_result"
    },
    {
     "data": {
      "image/png": "[encoded data removed]",
      "text/plain": [
       "<Figure size 576x432 with 1 Axes>"
      ]
     },
     "metadata": {
      "needs_background": "light"
     },
     "output_type": "display_data"
    }
   ],
   "source": [
    "xs = q2.iloc[:,0]\n",
    "ys = q2.iloc[:, 1]\n",
    "zs = q2.iloc[:, 2]\n",
    "\n",
    "test = plt.figure(figsize = (8, 6))\n",
    "\n",
    "#s == size\n",
    "\n",
    "test2 = test.add_subplot(111, projection = '3d')\n",
    "test2.scatter(xs, ys, zs, s = 100, alpha = 0.5, edgecolors = 'w')\n",
    "\n",
    "test2.set_xlabel('sepal length')\n",
    "test2.set_ylabel('sepal width')\n",
    "test2.set_zlabel('petal width')\n"
   ]
  },
  {
   "cell_type": "markdown",
   "id": "3d0f97e3",
   "metadata": {},
   "source": [
    "# Using another set of 3 attributes"
   ]
  },
  {
   "cell_type": "code",
   "execution_count": 212,
   "id": "5290748d",
   "metadata": {},
   "outputs": [],
   "source": [
    "q2_b = df\n",
    "q2_b = q2_b.drop(q2_b[q2_b.species == \"virginica\"].index)\n",
    "\n",
    "q2_b = q2_b.drop(columns = ['sepal_length'])\n",
    "## attributes are sepal length, width and petal width\n"
   ]
  },
  {
   "cell_type": "code",
   "execution_count": 213,
   "id": "4b27a3ed",
   "metadata": {},
   "outputs": [
    {
     "name": "stdout",
     "output_type": "stream",
     "text": [
      "100\n"
     ]
    }
   ],
   "source": [
    "X_b = q2_b.iloc[:, : len(q2_b.columns)-1].to_numpy()\n",
    "print(len(X_b))\n",
    "#versicolor is -1 and setosa is 1\n",
    "y_b = q2_b['species']\n",
    "y_b = np.where(y_b == 'versicolor', -1, 1)"
   ]
  },
  {
   "cell_type": "code",
   "execution_count": 214,
   "id": "2045fe52",
   "metadata": {},
   "outputs": [
    {
     "name": "stdout",
     "output_type": "stream",
     "text": [
      "1.0\n"
     ]
    }
   ],
   "source": [
    "new_clf_b = get_perceptron()\n",
    "new_clf_b.fit(X_b, y_b)\n",
    "\n",
    "y_pred_b = new_clf_b.predict(X_b).reshape(100)\n",
    "print(new_clf_b.accuracy(y_b, y_pred_b))"
   ]
  },
  {
   "cell_type": "markdown",
   "id": "5985aaec",
   "metadata": {},
   "source": [
    "# Generalizing Perceptron Code"
   ]
  },
  {
   "cell_type": "code",
   "execution_count": 215,
   "id": "30e01056",
   "metadata": {},
   "outputs": [],
   "source": [
    "class gen_perceptron(object):\n",
    "    def __init__(self, eta = 0.5, epochs = 50, random_state = None):\n",
    "        self.eta = eta\n",
    "        self.epochs = epochs\n",
    "        self.random_state = random_state\n",
    "        self.rand_num_gen = np.random.default_rng(self.random_state)\n",
    "        \n",
    "    def fit(self, X, y):\n",
    "        num_attributes = X.shape[1]\n",
    "        self.w_array = np.random.rand(num_attributes)\n",
    "        self.b = np.random.rand(1)\n",
    "        \n",
    "        self.errors = []\n",
    "        \n",
    "        for _ in range(self.epochs):\n",
    "            errors = 0\n",
    "            for xi, yi in zip(X, y):\n",
    "                update = self.eta * (self.predict(xi) - yi)\n",
    "                self.w_array -= update * xi\n",
    "                self.b = self.b - update\n",
    "                errors = errors + int(update != 0)\n",
    "            if errors == 0:\n",
    "                return self\n",
    "            else:\n",
    "                self.errors.append(errors)\n",
    "            \n",
    "        return self\n",
    "    \n",
    "    def weighted_sum(self, x):\n",
    "        #maybe just make self.w == to the w array created earlier\n",
    "        return np.dot(x, self.w_array) + self.b\n",
    "    \n",
    "    def predict(self, x):\n",
    "        return np.where(self.weighted_sum(x) > 0.0, 1, -1)\n",
    "    \n",
    "    def accuracy(self, y_true, y_pred):\n",
    "        accuracy = 0\n",
    "        num_elem = 0\n",
    "        if len(y_true) != len(y_pred):\n",
    "            return\n",
    "        for x in range(len(y_true)):\n",
    "            if y_true[x] == y_pred[x]:\n",
    "                accuracy += 1\n",
    "                num_elem += 1\n",
    "            else:\n",
    "                num_elem += 1\n",
    "        return accuracy/num_elem"
   ]
  },
  {
   "cell_type": "code",
   "execution_count": 216,
   "id": "48cd8c88",
   "metadata": {},
   "outputs": [],
   "source": [
    "##Formatting the Dataset\n",
    "generalized_x = df.iloc[:, :df.shape[1]-1].to_numpy()\n",
    "generalized_y = np.where((df.iloc[:,-1]) == 'virginica', -1, 1)"
   ]
  },
  {
   "cell_type": "code",
   "execution_count": 217,
   "id": "4c3c4180",
   "metadata": {},
   "outputs": [
    {
     "data": {
      "text/plain": [
       "0.8666666666666667"
      ]
     },
     "execution_count": 217,
     "metadata": {},
     "output_type": "execute_result"
    }
   ],
   "source": [
    "##Just testing the perceptron function\n",
    "generlized_clf = gen_perceptron()\n",
    "generlized_clf.fit(generalized_x, generalized_y)\n",
    "\n",
    "gen_pred_y = generlized_clf.predict(generalized_x)\n",
    "\n",
    "generlized_clf.accuracy(generalized_y, gen_pred_y)"
   ]
  },
  {
   "cell_type": "markdown",
   "id": "a3e40d7d",
   "metadata": {},
   "source": [
    "# Automating the formating of the dataset"
   ]
  },
  {
   "cell_type": "code",
   "execution_count": 218,
   "id": "32e44371",
   "metadata": {},
   "outputs": [],
   "source": [
    "class gen(object):\n",
    "    def __init__(self, num_attributes = None):\n",
    "        self.clf = gen_perceptron()\n",
    "        self.classification = None\n",
    "        self.my_score = None\n",
    "        self.sklearn_score = None\n",
    "        self.num_attributes = None\n",
    "        \n",
    "    def set_class(self, classification):\n",
    "        self.classification = classification\n",
    "        \n",
    "    def seperate_data(self, dataset):\n",
    "        if(2 >= dataset.shape[1]):\n",
    "            print(\"Dataset does not have that many attributes\")\n",
    "            return None, None\n",
    "        \n",
    "        else:\n",
    "            self.num_attributes = dataset.shape[1]-1\n",
    "            X = dataset.iloc[:, :self.num_attributes].to_numpy()\n",
    "            y = np.where((dataset.iloc[:,-1]) == self.classification, -1, 1)\n",
    "            return X, y\n",
    "    \n",
    "    def run_gen_clf(self, dataset):\n",
    "        X, y = self.seperate_data(dataset)\n",
    "        self.clf.fit(X, y)\n",
    "        y_pred = self.clf.predict(X).reshape(y.shape[0])\n",
    "        self.my_score = self.clf.accuracy(y, y_pred)\n",
    "        \n",
    "        \n",
    "    def run_perc_clf(self, dataset):\n",
    "        X, y = self.seperate_data(dataset)\n",
    "        clf = Perceptron()\n",
    "        clf.fit(X, y)\n",
    "        y_pred = clf.predict(X)\n",
    "        \n",
    "        self.sklearn_score = clf.score(X, y)\n",
    "        \n",
    "    def comp_score(self):\n",
    "        if(self.my_score == None or self.sklearn_score == None):\n",
    "            print('Both scores do not exist')\n",
    "        else:\n",
    "            print(\"sklearn accuracy score: \" + str(self.sklearn_score))\n",
    "            print(\"my accuracy score: \" + str(self.my_score))\n",
    "        \n",
    "    def print_class(self):\n",
    "        return self.classification\n",
    "    \n",
    "    def print_num(self):\n",
    "        return self.num_attributes\n",
    "        \n",
    "    "
   ]
  },
  {
   "cell_type": "markdown",
   "id": "50db3922",
   "metadata": {},
   "source": [
    "# Testing the ML against sklearns"
   ]
  },
  {
   "cell_type": "code",
   "execution_count": 219,
   "id": "bad4e3cb",
   "metadata": {},
   "outputs": [
    {
     "name": "stdout",
     "output_type": "stream",
     "text": [
      "    sepal_length  sepal_width  petal_length  petal_width     species\n",
      "0            5.1          3.5           1.4          0.2      setosa\n",
      "1            4.9          3.0           1.4          0.2      setosa\n",
      "2            4.7          3.2           1.3          0.2      setosa\n",
      "3            4.6          3.1           1.5          0.2      setosa\n",
      "4            5.0          3.6           1.4          0.2      setosa\n",
      "..           ...          ...           ...          ...         ...\n",
      "95           5.7          3.0           4.2          1.2  versicolor\n",
      "96           5.7          2.9           4.2          1.3  versicolor\n",
      "97           6.2          2.9           4.3          1.3  versicolor\n",
      "98           5.1          2.5           3.0          1.1  versicolor\n",
      "99           5.7          2.8           4.1          1.3  versicolor\n",
      "\n",
      "[100 rows x 5 columns]\n"
     ]
    }
   ],
   "source": [
    "df_non_setosa = df.drop(df[df.species == \"setosa\"].index)\n",
    "\n",
    "df_non_versicolor = df.drop(df[df.species == \"versicolor\"].index)\n",
    "\n",
    "df_non_virginica = df.drop(df[df.species == \"virginica\"].index)\n",
    "\n",
    "print(df_non_virginica)"
   ]
  },
  {
   "cell_type": "markdown",
   "id": "af52938a",
   "metadata": {},
   "source": [
    "# Testing dataset without setosa"
   ]
  },
  {
   "cell_type": "code",
   "execution_count": 220,
   "id": "2068d8aa",
   "metadata": {},
   "outputs": [
    {
     "name": "stdout",
     "output_type": "stream",
     "text": [
      "sklearn accuracy score: 0.74\n",
      "my accuracy score: 0.7\n"
     ]
    }
   ],
   "source": [
    "gen_clf = gen()\n",
    "#X, y = gen_clf.seperate_data(df, classification, 6)\n",
    "classification = 'versicolor'\n",
    "\n",
    "gen_clf.set_class(classification)\n",
    "\n",
    "gen_clf.run_gen_clf(df_non_setosa)\n",
    "gen_clf.run_perc_clf(df_non_setosa)\n",
    "\n",
    "gen_clf.comp_score()"
   ]
  },
  {
   "cell_type": "markdown",
   "id": "ab5f8cc0",
   "metadata": {},
   "source": [
    "# Testing without virginica"
   ]
  },
  {
   "cell_type": "code",
   "execution_count": 221,
   "id": "2259a994",
   "metadata": {},
   "outputs": [
    {
     "name": "stdout",
     "output_type": "stream",
     "text": [
      "sklearn accuracy score: 1.0\n",
      "my accuracy score: 1.0\n",
      "setosa\n"
     ]
    }
   ],
   "source": [
    "gen_clf = gen()\n",
    "#X, y = gen_clf.seperate_data(df, classification, 6)\n",
    "classification = 'setosa'\n",
    "\n",
    "gen_clf.set_class(classification)\n",
    "\n",
    "gen_clf.run_gen_clf(df_non_virginica)\n",
    "gen_clf.run_perc_clf(df_non_virginica)\n",
    "\n",
    "gen_clf.comp_score()\n",
    "x = gen_clf.print_class()\n",
    "print(x)"
   ]
  },
  {
   "cell_type": "markdown",
   "id": "df741da4",
   "metadata": {},
   "source": [
    "# Testing without Versicolor"
   ]
  },
  {
   "cell_type": "code",
   "execution_count": 222,
   "id": "b523b6e7",
   "metadata": {},
   "outputs": [
    {
     "name": "stdout",
     "output_type": "stream",
     "text": [
      "sklearn accuracy score: 1.0\n",
      "my accuracy score: 1.0\n"
     ]
    }
   ],
   "source": [
    "gen_clf = gen()\n",
    "#X, y = gen_clf.seperate_data(df, classification, 6)\n",
    "classification = 'setosa'\n",
    "\n",
    "gen_clf.set_class(classification)\n",
    "\n",
    "gen_clf.run_gen_clf(df_non_versicolor)\n",
    "gen_clf.run_perc_clf(df_non_versicolor)\n",
    "\n",
    "gen_clf.comp_score()\n"
   ]
  },
  {
   "cell_type": "markdown",
   "id": "d41f1c68",
   "metadata": {},
   "source": [
    "\n",
    "#  Testing all classes against one class"
   ]
  },
  {
   "cell_type": "code",
   "execution_count": 223,
   "id": "f9617868",
   "metadata": {},
   "outputs": [
    {
     "name": "stdout",
     "output_type": "stream",
     "text": [
      "sklearn accuracy score: 1.0\n",
      "my accuracy score: 1.0\n",
      "setosa\n"
     ]
    }
   ],
   "source": [
    "gen_clf = gen()\n",
    "#X, y = gen_clf.seperate_data(df, classification, 6)\n",
    "classification = 'setosa'\n",
    "\n",
    "gen_clf.set_class(classification)\n",
    "\n",
    "gen_clf.run_gen_clf(df)\n",
    "gen_clf.run_perc_clf(df)\n",
    "\n",
    "gen_clf.comp_score()\n",
    "print(classification)"
   ]
  },
  {
   "cell_type": "code",
   "execution_count": 224,
   "id": "7c6263f7",
   "metadata": {},
   "outputs": [
    {
     "name": "stdout",
     "output_type": "stream",
     "text": [
      "sklearn accuracy score: 0.6533333333333333\n",
      "my accuracy score: 0.6666666666666666\n",
      "versicolor\n"
     ]
    }
   ],
   "source": [
    "gen_clf = gen()\n",
    "#X, y = gen_clf.seperate_data(df, classification, 6)\n",
    "classification = 'versicolor'\n",
    "\n",
    "gen_clf.set_class(classification)\n",
    "\n",
    "gen_clf.run_gen_clf(df)\n",
    "gen_clf.run_perc_clf(df)\n",
    "\n",
    "gen_clf.comp_score()\n",
    "print(classification)"
   ]
  },
  {
   "cell_type": "code",
   "execution_count": 230,
   "id": "a93a6d84",
   "metadata": {},
   "outputs": [
    {
     "name": "stdout",
     "output_type": "stream",
     "text": [
      "sklearn accuracy score: 0.98\n",
      "my accuracy score: 0.8733333333333333\n",
      "virginica\n"
     ]
    }
   ],
   "source": [
    "gen_clf = gen()\n",
    "#X, y = gen_clf.seperate_data(df, classification, 6)\n",
    "classification = 'virginica'\n",
    "\n",
    "gen_clf.set_class(classification)\n",
    "\n",
    "gen_clf.run_gen_clf(df)\n",
    "gen_clf.run_perc_clf(df)\n",
    "\n",
    "gen_clf.comp_score()\n",
    "print(classification)"
   ]
  },
  {
   "cell_type": "markdown",
   "id": "2584eb64",
   "metadata": {},
   "source": [
    "# Testing With Different Attributes Sizes"
   ]
  },
  {
   "cell_type": "code",
   "execution_count": 231,
   "id": "b705f428",
   "metadata": {},
   "outputs": [
    {
     "name": "stdout",
     "output_type": "stream",
     "text": [
      "sklearn accuracy score: 0.68\n",
      "my accuracy score: 0.51\n"
     ]
    }
   ],
   "source": [
    "dataset_3_attr = df[['petal_length', 'sepal_width', 'species']]\n",
    "dataset_3_attr = dataset_3_attr.drop(dataset_3_attr[dataset_3_attr.species == \"setosa\"].index)\n",
    "\n",
    "gen_3_clf = gen()\n",
    "classification_3 = 'virginica'\n",
    "gen_3_clf.set_class(classification_3)\n",
    "gen_3_clf.run_gen_clf(dataset_3_attr)\n",
    "gen_3_clf.run_perc_clf(dataset_3_attr)\n",
    "gen_3_clf.comp_score()\n"
   ]
  },
  {
   "cell_type": "code",
   "execution_count": 232,
   "id": "c0ddf9d6",
   "metadata": {},
   "outputs": [
    {
     "name": "stdout",
     "output_type": "stream",
     "text": [
      "sklearn accuracy score: 1.0\n",
      "my accuracy score: 1.0\n"
     ]
    }
   ],
   "source": [
    "dataset_3_attr = df[['petal_length', 'sepal_width', 'species']]\n",
    "dataset_3_attr = dataset_3_attr.drop(dataset_3_attr[dataset_3_attr.species == \"versicolor\"].index)\n",
    "\n",
    "gen_3_clf = gen()\n",
    "classification_3 = 'virginica'\n",
    "gen_3_clf.set_class(classification_3)\n",
    "gen_3_clf.run_gen_clf(dataset_3_attr)\n",
    "gen_3_clf.run_perc_clf(dataset_3_attr)\n",
    "gen_3_clf.comp_score()\n"
   ]
  },
  {
   "cell_type": "code",
   "execution_count": 233,
   "id": "87328890",
   "metadata": {},
   "outputs": [
    {
     "name": "stdout",
     "output_type": "stream",
     "text": [
      "sklearn accuracy score: 0.92\n",
      "my accuracy score: 0.66\n"
     ]
    }
   ],
   "source": [
    "dataset_3_attr = df[['petal_length', 'sepal_width', 'sepal_length','species']]\n",
    "dataset_3_attr = dataset_3_attr.drop(dataset_3_attr[dataset_3_attr.species == \"setosa\"].index)\n",
    "\n",
    "gen_3_clf = gen()\n",
    "classification_3 = 'virginica'\n",
    "gen_3_clf.set_class(classification_3)\n",
    "gen_3_clf.run_gen_clf(dataset_3_attr)\n",
    "gen_3_clf.run_perc_clf(dataset_3_attr)\n",
    "gen_3_clf.comp_score()\n"
   ]
  },
  {
   "cell_type": "code",
   "execution_count": 234,
   "id": "24a540b8",
   "metadata": {},
   "outputs": [
    {
     "name": "stdout",
     "output_type": "stream",
     "text": [
      "sklearn accuracy score: 1.0\n",
      "my accuracy score: 1.0\n"
     ]
    }
   ],
   "source": [
    "dataset_3_attr = df[['petal_length', 'sepal_width', 'sepal_length','species']]\n",
    "dataset_3_attr = dataset_3_attr.drop(dataset_3_attr[dataset_3_attr.species == \"versicolor\"].index)\n",
    "\n",
    "gen_3_clf = gen()\n",
    "classification_3 = 'virginica'\n",
    "gen_3_clf.set_class(classification_3)\n",
    "gen_3_clf.run_gen_clf(dataset_3_attr)\n",
    "gen_3_clf.run_perc_clf(dataset_3_attr)\n",
    "gen_3_clf.comp_score()\n"
   ]
  },
  {
   "cell_type": "code",
   "execution_count": null,
   "id": "45300121",
   "metadata": {},
   "outputs": [],
   "source": []
  }
 ],
 "metadata": {
  "kernelspec": {
   "display_name": "Python 3",
   "language": "python",
   "name": "python3"
  },
  "language_info": {
   "codemirror_mode": {
    "name": "ipython",
    "version": 3
   },
   "file_extension": ".py",
   "mimetype": "text/x-python",
   "name": "python",
   "nbconvert_exporter": "python",
   "pygments_lexer": "ipython3",
   "version": "3.6.2"
  }
 },
 "nbformat": 4,
 "nbformat_minor": 5
}
