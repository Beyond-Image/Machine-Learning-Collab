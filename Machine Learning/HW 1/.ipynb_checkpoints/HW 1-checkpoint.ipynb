{
 "cells": [
  {
   "cell_type": "markdown",
   "id": "762ecb29",
   "metadata": {},
   "source": [
    "# Import libraries and Dataset"
   ]
  },
  {
   "cell_type": "code",
   "execution_count": 403,
   "id": "b76198c5",
   "metadata": {},
   "outputs": [],
   "source": [
    "import matplotlib.pyplot as plt\n",
    "import numpy as np\n",
    "import pandas as pd\n",
    "\n",
    "from mlxtend.plotting import plot_decision_regions\n",
    "\n",
    "df = pd.read_csv(\"iris_dataset.csv\")"
   ]
  },
  {
   "cell_type": "markdown",
   "id": "a0cc3644",
   "metadata": {},
   "source": [
    "# Filtering Dataset"
   ]
  },
  {
   "cell_type": "code",
   "execution_count": 404,
   "id": "20cd55ba",
   "metadata": {
    "scrolled": true
   },
   "outputs": [],
   "source": [
    "q1 = df[[\"sepal_length\", \"petal_length\", \"species\"]]\n",
    "\n",
    "q1 = q1.drop(q1[q1.species == \"setosa\"].index)"
   ]
  },
  {
   "cell_type": "code",
   "execution_count": 405,
   "id": "f1e746b2",
   "metadata": {},
   "outputs": [],
   "source": [
    "X = q1[[\"sepal_length\", \"petal_length\"]]\n",
    "\n",
    "y = q1['species']\n",
    "# versicolor = -1, virginica = 1\n",
    "y = np.where(y == 'versicolor', -1, 1)"
   ]
  },
  {
   "cell_type": "markdown",
   "id": "b2c938f4",
   "metadata": {},
   "source": [
    "#  Making Model"
   ]
  },
  {
   "cell_type": "code",
   "execution_count": 406,
   "id": "25f5330b",
   "metadata": {},
   "outputs": [
    {
     "data": {
      "text/plain": [
       "Perceptron()"
      ]
     },
     "execution_count": 406,
     "metadata": {},
     "output_type": "execute_result"
    }
   ],
   "source": [
    "from sklearn.linear_model import Perceptron\n",
    "from sklearn.metrics import accuracy_score\n",
    "\n",
    "clf = Perceptron()\n",
    "\n",
    "clf.fit(X, y)"
   ]
  },
  {
   "cell_type": "code",
   "execution_count": 407,
   "id": "05bdadc1",
   "metadata": {},
   "outputs": [
    {
     "data": {
      "text/plain": [
       "0.8"
      ]
     },
     "execution_count": 407,
     "metadata": {},
     "output_type": "execute_result"
    }
   ],
   "source": [
    "y_pred = clf.predict(X)\n",
    "\n",
    "##accuracy score\n",
    "accuracy_score(y, y_pred)"
   ]
  },
  {
   "cell_type": "code",
   "execution_count": 408,
   "id": "eaa9fcbf",
   "metadata": {},
   "outputs": [
    {
     "data": {
      "text/plain": [
       "array([[-56.5,  74.9]])"
      ]
     },
     "execution_count": 408,
     "metadata": {},
     "output_type": "execute_result"
    }
   ],
   "source": [
    "clf.coef_"
   ]
  },
  {
   "cell_type": "code",
   "execution_count": 409,
   "id": "1c178213",
   "metadata": {},
   "outputs": [
    {
     "data": {
      "text/plain": [
       "array([-38.])"
      ]
     },
     "execution_count": 409,
     "metadata": {},
     "output_type": "execute_result"
    }
   ],
   "source": [
    "clf.intercept_"
   ]
  },
  {
   "cell_type": "code",
   "execution_count": 410,
   "id": "c648f809",
   "metadata": {},
   "outputs": [],
   "source": [
    "x_array = X.to_numpy()"
   ]
  },
  {
   "cell_type": "code",
   "execution_count": 411,
   "id": "11c6e9bf",
   "metadata": {},
   "outputs": [
    {
     "data": {
      "text/plain": [
       "Text(0, 0.5, 'petal length')"
      ]
     },
     "execution_count": 411,
     "metadata": {},
     "output_type": "execute_result"
    },
    {
     "data": {
      "image/png": "[encoded data removed]",
      "text/plain": [
       "<Figure size 576x432 with 1 Axes>"
      ]
     },
     "metadata": {
      "needs_background": "light"
     },
     "output_type": "display_data"
    }
   ],
   "source": [
    "plt.figure(figsize = (8, 6))\n",
    "plot_decision_regions(x_array, y, clf = clf)\n",
    "plt.title(\"SK. Perceptron of veris. and virgin.\")\n",
    "plt.xlabel(\"sepal length\", fontsize = 15)\n",
    "plt.ylabel(\"petal length\", fontsize = 15)\n",
    "\n",
    "#please note that versicolor = -1, virginica = 1"
   ]
  },
  {
   "cell_type": "markdown",
   "id": "a7a6f9fb",
   "metadata": {},
   "source": [
    "# Perceptron Code\n"
   ]
  },
  {
   "cell_type": "code",
   "execution_count": 412,
   "id": "54b0f0c8",
   "metadata": {},
   "outputs": [],
   "source": [
    "class get_perceptron(object):\n",
    "    def __init__(self, eta = 0.5, epochs = 50):\n",
    "        self.eta = eta\n",
    "        self.epochs = epochs\n",
    "        \n",
    "    def fit(self, X, y):\n",
    "        self.w1 = np.random.rand(1)\n",
    "        self.w2 = np.random.rand(1)\n",
    "        self.w3 = np.random.rand(1)\n",
    "        self.b = np.random.rand(1)\n",
    "        \n",
    "        self.errors = []\n",
    "        \n",
    "        for _ in range(self.epochs):\n",
    "            errors = 0\n",
    "            for xi, yi in zip(X, y):\n",
    "                update = self.eta * (self.predict(xi) - yi)\n",
    "                self.w1 = self.w1 - update*xi[0]\n",
    "                self.w2 = self.w2 - update*xi[1]\n",
    "                self.w3 = self.w3 - update*xi[2]\n",
    "                self.b = self.b - update\n",
    "                errors = errors + int(update != 0)\n",
    "            if errors == 0:\n",
    "                return self\n",
    "            else:\n",
    "                self.errors.append(errors)\n",
    "            \n",
    "        return self\n",
    "    \n",
    "    def weighted_sum(self, x):\n",
    "        self.w = np.array([self.w1, self.w2, self.w3])\n",
    "        return np.dot(x, self.w) + self.b\n",
    "    \n",
    "    def predict(self, x):\n",
    "        return np.where(self.weighted_sum(x) > 0.0, 1, -1)\n",
    "    \n",
    "    def accuracy(self, y_true, y_pred):\n",
    "        accuracy = 0\n",
    "        num_elem = 0\n",
    "        if len(y_true) != len(y_pred):\n",
    "            return\n",
    "        for x in range(len(y_true)):\n",
    "            if y_true[x] == y_pred[x]:\n",
    "                accuracy += 1\n",
    "                num_elem += 1\n",
    "            else:\n",
    "                num_elem += 1\n",
    "        return accuracy/num_elem"
   ]
  },
  {
   "cell_type": "markdown",
   "id": "e56d271b",
   "metadata": {},
   "source": [
    "# Formating New Dataset"
   ]
  },
  {
   "cell_type": "code",
   "execution_count": 413,
   "id": "ade5d103",
   "metadata": {},
   "outputs": [],
   "source": [
    "q2 = df\n",
    "q2 = q2.drop(q2[q2.species == \"virginica\"].index)\n",
    "\n",
    "q2 = q2.drop(columns = ['petal_length'])\n",
    "## attributes are sepal length, width and petal width\n"
   ]
  },
  {
   "cell_type": "code",
   "execution_count": 414,
   "id": "d9cd1dd2",
   "metadata": {},
   "outputs": [],
   "source": [
    "X = q2.iloc[:, : len(q2.columns)-1].to_numpy()\n",
    "\n",
    "#versicolor is -1 and setosa is 1\n",
    "y = q2['species']\n",
    "y = np.where(y == 'versicolor', -1, 1)"
   ]
  },
  {
   "cell_type": "code",
   "execution_count": 415,
   "id": "6dde4b26",
   "metadata": {},
   "outputs": [
    {
     "name": "stdout",
     "output_type": "stream",
     "text": [
      "3\n",
      "[0.77395605 0.43887844 0.85859792]\n"
     ]
    }
   ],
   "source": [
    "print(len(X[0]))\n",
    "len(X)\n",
    "test_column = 5\n",
    "array_test = np.random.default_rng(42).random((3))\n",
    "print(array_test)"
   ]
  },
  {
   "cell_type": "code",
   "execution_count": 416,
   "id": "fdf4ecb1",
   "metadata": {},
   "outputs": [],
   "source": [
    "new_clf = get_perceptron()\n",
    "new_clf.fit(X, y)\n",
    "\n",
    "y_pred = new_clf.predict(X).reshape(100)\n"
   ]
  },
  {
   "cell_type": "code",
   "execution_count": 417,
   "id": "96a2c674",
   "metadata": {},
   "outputs": [
    {
     "name": "stdout",
     "output_type": "stream",
     "text": [
      "1.0\n"
     ]
    }
   ],
   "source": [
    "print(new_clf.accuracy(y, y_pred))"
   ]
  },
  {
   "cell_type": "code",
   "execution_count": 418,
   "id": "e5c7cf54",
   "metadata": {},
   "outputs": [
    {
     "data": {
      "image/png": "[encoded data removed]",
      "text/plain": [
       "<Figure size 576x432 with 1 Axes>"
      ]
     },
     "metadata": {
      "needs_background": "light"
     },
     "output_type": "display_data"
    }
   ],
   "source": [
    "plt.figure(figsize = (8, 6))\n",
    "plt.plot(range(1, len(new_clf.errors)+1), new_clf.errors, \n",
    "         marker = \"o\")\n",
    "plt.title(\"Error plot\", fontsize = 15)\n",
    "plt.xlabel(\"The number of iterations\", fontsize = 15)\n",
    "plt.ylabel(\"The number of misclassifications\", fontsize = 15)\n",
    "plt.xticks(range(1, len(new_clf.errors)+1))\n",
    "plt.show()"
   ]
  },
  {
   "cell_type": "code",
   "execution_count": 419,
   "id": "e3fe98c4",
   "metadata": {},
   "outputs": [
    {
     "data": {
      "text/plain": [
       "Text(0.5, 0, 'petal width')"
      ]
     },
     "execution_count": 419,
     "metadata": {},
     "output_type": "execute_result"
    },
    {
     "data": {
      "image/png": "[encoded data removed]",
      "text/plain": [
       "<Figure size 576x432 with 1 Axes>"
      ]
     },
     "metadata": {
      "needs_background": "light"
     },
     "output_type": "display_data"
    }
   ],
   "source": [
    "xs = q2.iloc[:,0]\n",
    "ys = q2.iloc[:, 1]\n",
    "zs = q2.iloc[:, 2]\n",
    "\n",
    "test = plt.figure(figsize = (8, 6))\n",
    "\n",
    "#s == size\n",
    "\n",
    "test2 = test.add_subplot(111, projection = '3d')\n",
    "test2.scatter(xs, ys, zs, s = 100, alpha = 0.5, edgecolors = 'w')\n",
    "\n",
    "test2.set_xlabel('sepal length')\n",
    "test2.set_ylabel('sepal width')\n",
    "test2.set_zlabel('petal width')\n"
   ]
  },
  {
   "cell_type": "code",
   "execution_count": 420,
   "id": "c307e325",
   "metadata": {},
   "outputs": [],
   "source": [
    "class get_perceptron(object):\n",
    "    def __init__(self, eta = 0.5, epochs = 50, random_state = None):\n",
    "        self.eta = eta\n",
    "        self.epochs = epochs\n",
    "        self.random_state = random_state\n",
    "        self.rand_num_gen = np.random.default_rng(self.random_state)\n",
    "        \n",
    "    def fit(self, X, y):\n",
    "        #initialize array according to num cols // then use the array to base off the ws\n",
    "        #do this using a numpy function maybe\n",
    "        num_attributes = X.shape[1]\n",
    "        self.w_array = self.rand_num_gen.random(num_attributes)\n",
    "        self.b = np.random.rand(1)\n",
    "        \n",
    "        self.errors = []\n",
    "        \n",
    "        for _ in range(self.epochs):\n",
    "            errors = 0\n",
    "            for xi, yi in zip(X, y):\n",
    "                update = self.eta * (self.predict(xi) - yi)\n",
    "                \n",
    "                self.w_array -= update *xi\n",
    "                self.b = self.b - update\n",
    "                errors = errors + int(update != 0)\n",
    "            if errors == 0:\n",
    "                return self\n",
    "            else:\n",
    "                self.errors.append(errors)\n",
    "            \n",
    "        return self\n",
    "    \n",
    "    def weighted_sum(self, x):\n",
    "        #maybe just make self.w == to the w array created earlier\n",
    "        self.w = self.w_array\n",
    "        return np.dot(x, self.w_array) + self.b\n",
    "    \n",
    "    def predict(self, x):\n",
    "        return np.where(self.weighted_sum(x) > 0.0, 1, -1)\n",
    "    \n",
    "    def accuracy(self, y_true, y_pred):\n",
    "        accuracy = 0\n",
    "        num_elem = 0\n",
    "        if len(y_true) != len(y_pred):\n",
    "            return\n",
    "        for x in range(len(y_true)):\n",
    "            if y_true[x] == y_pred[x]:\n",
    "                accuracy += 1\n",
    "                num_elem += 1\n",
    "            else:\n",
    "                num_elem += 1\n",
    "        return accuracy/num_elem"
   ]
  },
  {
   "cell_type": "code",
   "execution_count": 421,
   "id": "00890e56",
   "metadata": {},
   "outputs": [],
   "source": [
    "X = df.loc[:, df.columns != 'species'].to_numpy()\n",
    "\n",
    "y = df[['species']]\n",
    "#where setosa is marked as -1 and any other class is 1\n",
    "y = np.where(y == 'setosa', -1, 1)"
   ]
  },
  {
   "cell_type": "code",
   "execution_count": 422,
   "id": "89554ab2",
   "metadata": {},
   "outputs": [
    {
     "name": "stdout",
     "output_type": "stream",
     "text": [
      "1.0\n"
     ]
    }
   ],
   "source": [
    "new_clf = get_perceptron()\n",
    "new_clf.fit(X, y)\n",
    "\n",
    "y_pred = new_clf.predict(X).reshape(150)\n",
    "\n",
    "accuracy = new_clf.accuracy(y, y_pred)\n",
    "print(accuracy)"
   ]
  },
  {
   "cell_type": "code",
   "execution_count": 423,
   "id": "d18a1e07",
   "metadata": {
    "scrolled": true
   },
   "outputs": [
    {
     "name": "stderr",
     "output_type": "stream",
     "text": [
      "c:\\users\\felip\\appdata\\local\\programs\\python\\python36-32\\lib\\site-packages\\ipykernel_launcher.py:4: FutureWarning: elementwise comparison failed; returning scalar instead, but in the future will perform elementwise comparison\n",
      "  after removing the cwd from sys.path.\n"
     ]
    }
   ],
   "source": [
    "testing_automation = df.iloc[:,:df.shape[1]-1].to_numpy()\n",
    "testing_automation_y = df.iloc[:, -1]\n",
    "testing_automation_y\n",
    "y = np.where(y == 'versicolor', -1, 1)\n"
   ]
  },
  {
   "cell_type": "code",
   "execution_count": 424,
   "id": "207b414c",
   "metadata": {},
   "outputs": [],
   "source": [
    "class get_perceptron(object):\n",
    "    def __init__(self, eta = 0.5, epochs = 50, random_state = None):\n",
    "        self.eta = eta\n",
    "        self.epochs = epochs\n",
    "        self.random_state = random_state\n",
    "        self.rand_num_gen = np.random.default_rng(self.random_state)\n",
    "        \n",
    "    def fit(self, X, y):\n",
    "        #initialize array according to num cols // then use the array to base off the ws\n",
    "        #do this using a numpy function maybe\n",
    "        num_attributes = X.shape[1]\n",
    "        self.w_array = np.random.rand(num_attributes)\n",
    "        self.b = np.random.rand(1)\n",
    "        \n",
    "        self.errors = []\n",
    "        \n",
    "        for _ in range(self.epochs):\n",
    "            errors = 0\n",
    "            for xi, yi in zip(X, y):\n",
    "                update = self.eta * (self.predict(xi) - yi)\n",
    "                self.w_array -= update * xi\n",
    "                self.b = self.b - update\n",
    "                errors = errors + int(update != 0)\n",
    "            if errors == 0:\n",
    "                return self\n",
    "            else:\n",
    "                self.errors.append(errors)\n",
    "            \n",
    "        return self\n",
    "    \n",
    "    def weighted_sum(self, x):\n",
    "        #maybe just make self.w == to the w array created earlier\n",
    "        return np.dot(x, self.w_array) + self.b\n",
    "    \n",
    "    def predict(self, x):\n",
    "        return np.where(self.weighted_sum(x) > 0.0, 1, -1)\n",
    "    \n",
    "    def accuracy(self, y_true, y_pred):\n",
    "        accuracy = 0\n",
    "        num_elem = 0\n",
    "        if len(y_true) != len(y_pred):\n",
    "            return\n",
    "        for x in range(len(y_true)):\n",
    "            if y_true[x] == y_pred[x]:\n",
    "                accuracy += 1\n",
    "                num_elem += 1\n",
    "            else:\n",
    "                num_elem += 1\n",
    "        return accuracy/num_elem"
   ]
  },
  {
   "cell_type": "code",
   "execution_count": 425,
   "id": "221a3c05",
   "metadata": {},
   "outputs": [],
   "source": [
    "generalized_x = df.iloc[:, :df.shape[1]-1].to_numpy()\n",
    "generalized_y = np.where((df.iloc[:,-1]) == 'versicolor', -1, 1)"
   ]
  },
  {
   "cell_type": "code",
   "execution_count": 426,
   "id": "5d75a571",
   "metadata": {},
   "outputs": [
    {
     "data": {
      "text/plain": [
       "0.6666666666666666"
      ]
     },
     "execution_count": 426,
     "metadata": {},
     "output_type": "execute_result"
    }
   ],
   "source": [
    "generlized_clf = get_perceptron()\n",
    "generlized_clf.fit(generalized_x, generalized_y)\n",
    "\n",
    "gen_pred_y = generlized_clf.predict(generalized_x)\n",
    "\n",
    "generlized_clf.accuracy(generalized_y, gen_pred_y)"
   ]
  },
  {
   "cell_type": "code",
   "execution_count": 437,
   "id": "d947f212",
   "metadata": {},
   "outputs": [],
   "source": [
    "class gen_clf(object):\n",
    "    import pandas\n",
    "    def __init__(self, eta = 0.5, epochs = 50, random_state = None):\n",
    "        self.eta = eta\n",
    "        self.epochs = epochs\n",
    "        self.random_state = random_state\n",
    "        self.rand_num_gen = np.random.default_rng(self.random_state)\n",
    "        \n",
    "    def seperate_df(df, classifier):\n",
    "        return type(df)\n",
    "        \n",
    "    def fit(self, X, y):\n",
    "        #initialize array according to num cols // then use the array to base off the ws\n",
    "        #do this using a numpy function maybe\n",
    "        num_attributes = X.shape[1]\n",
    "        self.w_array = np.random.rand(num_attributes)\n",
    "        self.b = np.random.rand(1)\n",
    "        \n",
    "        self.errors = []\n",
    "        \n",
    "        for _ in range(self.epochs):\n",
    "            errors = 0\n",
    "            for xi, yi in zip(X, y):\n",
    "                update = self.eta * (self.predict(xi) - yi)\n",
    "                self.w_array -= update * xi\n",
    "                self.b = self.b - update\n",
    "                errors = errors + int(update != 0)\n",
    "            if errors == 0:\n",
    "                return self\n",
    "            else:\n",
    "                self.errors.append(errors)\n",
    "            \n",
    "        return self\n",
    "    \n",
    "    def weighted_sum(self, x):\n",
    "        #maybe just make self.w == to the w array created earlier\n",
    "        return np.dot(x, self.w_array) + self.b\n",
    "    \n",
    "    def predict(self, x):\n",
    "        return np.where(self.weighted_sum(x) > 0.0, 1, -1)\n",
    "    \n",
    "    def accuracy(self, y_true, y_pred):\n",
    "        accuracy = 0\n",
    "        num_elem = 0\n",
    "        if len(y_true) != len(y_pred):\n",
    "            return\n",
    "        for x in range(len(y_true)):\n",
    "            if y_true[x] == y_pred[x]:\n",
    "                accuracy += 1\n",
    "                num_elem += 1\n",
    "            else:\n",
    "                num_elem += 1\n",
    "        return accuracy/num_elem"
   ]
  },
  {
   "cell_type": "code",
   "execution_count": 439,
   "id": "2b44511d",
   "metadata": {},
   "outputs": [
    {
     "data": {
      "text/plain": [
       "__main__.gen_clf"
      ]
     },
     "execution_count": 439,
     "metadata": {},
     "output_type": "execute_result"
    }
   ],
   "source": [
    "test_clf = gen_clf()\n",
    "test_clf.seperate_df(df)"
   ]
  },
  {
   "cell_type": "code",
   "execution_count": 435,
   "id": "77709151",
   "metadata": {},
   "outputs": [
    {
     "data": {
      "text/plain": [
       "sepal_length          5.9\n",
       "sepal_width             3\n",
       "petal_length          5.1\n",
       "petal_width           1.8\n",
       "species         virginica\n",
       "Name: 149, dtype: object"
      ]
     },
     "execution_count": 435,
     "metadata": {},
     "output_type": "execute_result"
    }
   ],
   "source": []
  }
 ],
 "metadata": {
  "kernelspec": {
   "display_name": "Python 3",
   "language": "python",
   "name": "python3"
  },
  "language_info": {
   "codemirror_mode": {
    "name": "ipython",
    "version": 3
   },
   "file_extension": ".py",
   "mimetype": "text/x-python",
   "name": "python",
   "nbconvert_exporter": "python",
   "pygments_lexer": "ipython3",
   "version": "3.6.2"
  }
 },
 "nbformat": 4,
 "nbformat_minor": 5
}
