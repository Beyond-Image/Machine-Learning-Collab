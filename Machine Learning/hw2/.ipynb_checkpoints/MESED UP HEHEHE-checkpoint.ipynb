{
 "cells": [
  {
   "cell_type": "markdown",
   "metadata": {},
   "source": [
    "# Linear Regression\n",
    "\n",
    "\n",
    "In section $\\S 1$ we consider **simple** linear regression (\"simple\" means that the input variable is **one-dimensional**). We will create a custom linear regression model using batch gradient descent. \n",
    "\n",
    "In section $\\S2$ we will use ```sklearn LinearRegression``` class. First, we will consider simple linear regression (input variable is one-dimensional), and afterwards, we will consider **multiple** linear regression (input variable is **multi-dimensional**). \n",
    "\n",
    "In section $\\S3$ we will implement Polynomial Regression using ```sklearn```. \n",
    "\n",
    "---"
   ]
  },
  {
   "cell_type": "markdown",
   "metadata": {},
   "source": [
    "---\n",
    "\n",
    "## 1) Custom Simple Linear Regression Code -- Single Neuron Model with Gradient Descent\n",
    "\n",
    "Consider dataset $D = \\{ (x^{(1)}, y^{(1)}), \\ldots, (x^{(n)}, y^{(n)})\\}$ where $x^{(i)}, y^{(i)} \\in \\mathbb R$.\n",
    "\n",
    "Simple linear regression model is given by $h(x) = wx + b$.\n",
    "\n",
    "We want to find parameters $w$ and $b$ that minimize the mean sqaured error loss function:\n",
    "\n",
    "$$\n",
    "L(w, b; D) = \\frac{1}{n}\\sum_{i=1}^{n}\\Big(\\hat{y}^{(i)} - y^{(i)}\\Big)^2. \n",
    "$$\n",
    "\n",
    "where $\\hat{y}^{(i)} = h(x^{(i)}) = w x^{(i)}+b$ and $D$ is the data set.  \n",
    "\n",
    "Since $L(w, b; D)$ is a differentiable function of both $w$ and $b$, we can try to solve this minimization problem by applying the gradient descent algorithm:\n",
    "\n",
    "$$\n",
    "w_{new} = w - \\alpha \\frac{\\partial L}{\\partial w}(w, b; D)\n",
    "$$\n",
    "\n",
    "$$\n",
    "b_{new} = b - \\alpha \\frac{\\partial L}{\\partial b}(w, b; D)\n",
    "$$\n",
    "\n",
    "where $\\alpha$ is the learning rate hyperparameter and the derivaties are given by \n",
    "\n",
    "$$\n",
    "\\frac{\\partial L}{\\partial w}(w, b; D) = \\frac{2}{n}\\sum_{i=1}^{n}\\Big(\\hat{y}^{(i)} - y^{(i)}\\Big)x^{(i)}\n",
    "$$\n",
    "\n",
    "$$\n",
    "\\frac{\\partial L}{\\partial b}(w, b; D) = \\frac{2}{n}\\sum_{i=1}^{n}\\Big(\\hat{y}^{(i)} - y^{(i)}\\Big)\n",
    "$$\n",
    "\n",
    "---"
   ]
  },
  {
   "cell_type": "markdown",
   "metadata": {},
   "source": [
    "---\n",
    "\n",
    "We will consider setosa flowers in the iris data set and we'll use linear regression to predict \"sepal width\" as a linear function of \"sepal length\".\n",
    "\n",
    "---"
   ]
  },
  {
   "cell_type": "code",
   "execution_count": 1,
   "metadata": {},
   "outputs": [
    {
     "data": {
      "text/html": [
       "<div>\n",
       "<style scoped>\n",
       "    .dataframe tbody tr th:only-of-type {\n",
       "        vertical-align: middle;\n",
       "    }\n",
       "\n",
       "    .dataframe tbody tr th {\n",
       "        vertical-align: top;\n",
       "    }\n",
       "\n",
       "    .dataframe thead th {\n",
       "        text-align: right;\n",
       "    }\n",
       "</style>\n",
       "<table border=\"1\" class=\"dataframe\">\n",
       "  <thead>\n",
       "    <tr style=\"text-align: right;\">\n",
       "      <th></th>\n",
       "      <th>sepal_length</th>\n",
       "      <th>sepal_width</th>\n",
       "      <th>petal_length</th>\n",
       "      <th>petal_width</th>\n",
       "      <th>species</th>\n",
       "    </tr>\n",
       "  </thead>\n",
       "  <tbody>\n",
       "    <tr>\n",
       "      <th>0</th>\n",
       "      <td>5.1</td>\n",
       "      <td>3.5</td>\n",
       "      <td>1.4</td>\n",
       "      <td>0.2</td>\n",
       "      <td>setosa</td>\n",
       "    </tr>\n",
       "    <tr>\n",
       "      <th>1</th>\n",
       "      <td>4.9</td>\n",
       "      <td>3.0</td>\n",
       "      <td>1.4</td>\n",
       "      <td>0.2</td>\n",
       "      <td>setosa</td>\n",
       "    </tr>\n",
       "    <tr>\n",
       "      <th>2</th>\n",
       "      <td>4.7</td>\n",
       "      <td>3.2</td>\n",
       "      <td>1.3</td>\n",
       "      <td>0.2</td>\n",
       "      <td>setosa</td>\n",
       "    </tr>\n",
       "    <tr>\n",
       "      <th>3</th>\n",
       "      <td>4.6</td>\n",
       "      <td>3.1</td>\n",
       "      <td>1.5</td>\n",
       "      <td>0.2</td>\n",
       "      <td>setosa</td>\n",
       "    </tr>\n",
       "    <tr>\n",
       "      <th>4</th>\n",
       "      <td>5.0</td>\n",
       "      <td>3.6</td>\n",
       "      <td>1.4</td>\n",
       "      <td>0.2</td>\n",
       "      <td>setosa</td>\n",
       "    </tr>\n",
       "  </tbody>\n",
       "</table>\n",
       "</div>"
      ],
      "text/plain": [
       "   sepal_length  sepal_width  petal_length  petal_width species\n",
       "0           5.1          3.5           1.4          0.2  setosa\n",
       "1           4.9          3.0           1.4          0.2  setosa\n",
       "2           4.7          3.2           1.3          0.2  setosa\n",
       "3           4.6          3.1           1.5          0.2  setosa\n",
       "4           5.0          3.6           1.4          0.2  setosa"
      ]
     },
     "execution_count": 1,
     "metadata": {},
     "output_type": "execute_result"
    }
   ],
   "source": [
    "import matplotlib.pyplot as plt\n",
    "import numpy as np\n",
    "import pandas as pd\n",
    "\n",
    "df = pd.read_csv(\"iris_dataset.csv\")\n",
    "df.head()"
   ]
  },
  {
   "cell_type": "code",
   "execution_count": 2,
   "metadata": {},
   "outputs": [
    {
     "data": {
      "text/html": [
       "<div>\n",
       "<style scoped>\n",
       "    .dataframe tbody tr th:only-of-type {\n",
       "        vertical-align: middle;\n",
       "    }\n",
       "\n",
       "    .dataframe tbody tr th {\n",
       "        vertical-align: top;\n",
       "    }\n",
       "\n",
       "    .dataframe thead th {\n",
       "        text-align: right;\n",
       "    }\n",
       "</style>\n",
       "<table border=\"1\" class=\"dataframe\">\n",
       "  <thead>\n",
       "    <tr style=\"text-align: right;\">\n",
       "      <th></th>\n",
       "      <th>sepal_length</th>\n",
       "      <th>sepal_width</th>\n",
       "    </tr>\n",
       "  </thead>\n",
       "  <tbody>\n",
       "    <tr>\n",
       "      <th>0</th>\n",
       "      <td>5.1</td>\n",
       "      <td>3.5</td>\n",
       "    </tr>\n",
       "    <tr>\n",
       "      <th>1</th>\n",
       "      <td>4.9</td>\n",
       "      <td>3.0</td>\n",
       "    </tr>\n",
       "    <tr>\n",
       "      <th>2</th>\n",
       "      <td>4.7</td>\n",
       "      <td>3.2</td>\n",
       "    </tr>\n",
       "    <tr>\n",
       "      <th>3</th>\n",
       "      <td>4.6</td>\n",
       "      <td>3.1</td>\n",
       "    </tr>\n",
       "    <tr>\n",
       "      <th>4</th>\n",
       "      <td>5.0</td>\n",
       "      <td>3.6</td>\n",
       "    </tr>\n",
       "  </tbody>\n",
       "</table>\n",
       "</div>"
      ],
      "text/plain": [
       "   sepal_length  sepal_width\n",
       "0           5.1          3.5\n",
       "1           4.9          3.0\n",
       "2           4.7          3.2\n",
       "3           4.6          3.1\n",
       "4           5.0          3.6"
      ]
     },
     "execution_count": 2,
     "metadata": {},
     "output_type": "execute_result"
    }
   ],
   "source": [
    "df = df.iloc[:50][[\"sepal_length\", \"sepal_width\"]]\n",
    "df.head()"
   ]
  },
  {
   "cell_type": "code",
   "execution_count": 3,
   "metadata": {},
   "outputs": [
    {
     "data": {
      "text/plain": [
       "(50, 2)"
      ]
     },
     "execution_count": 3,
     "metadata": {},
     "output_type": "execute_result"
    }
   ],
   "source": [
    "df.shape"
   ]
  },
  {
   "cell_type": "code",
   "execution_count": 4,
   "metadata": {},
   "outputs": [
    {
     "data": {
      "image/png": "[encoded data removed]",
      "text/plain": [
       "<Figure size 576x432 with 1 Axes>"
      ]
     },
     "metadata": {
      "needs_background": "light"
     },
     "output_type": "display_data"
    }
   ],
   "source": [
    "# We create the scatter plot\n",
    "\n",
    "plt.figure(figsize = (8, 6))\n",
    "\n",
    "plt.scatter(df['sepal_length'], df['sepal_width'])\n",
    "plt.xlabel(\"sepal length\", fontsize = 15)\n",
    "plt.ylabel(\"sepal width\", fontsize = 15);"
   ]
  },
  {
   "cell_type": "code",
   "execution_count": 5,
   "metadata": {},
   "outputs": [
    {
     "data": {
      "text/html": [
       "<div>\n",
       "<style scoped>\n",
       "    .dataframe tbody tr th:only-of-type {\n",
       "        vertical-align: middle;\n",
       "    }\n",
       "\n",
       "    .dataframe tbody tr th {\n",
       "        vertical-align: top;\n",
       "    }\n",
       "\n",
       "    .dataframe thead th {\n",
       "        text-align: right;\n",
       "    }\n",
       "</style>\n",
       "<table border=\"1\" class=\"dataframe\">\n",
       "  <thead>\n",
       "    <tr style=\"text-align: right;\">\n",
       "      <th></th>\n",
       "      <th>sepal_length</th>\n",
       "      <th>sepal_width</th>\n",
       "    </tr>\n",
       "  </thead>\n",
       "  <tbody>\n",
       "    <tr>\n",
       "      <th>sepal_length</th>\n",
       "      <td>0.124249</td>\n",
       "      <td>0.100298</td>\n",
       "    </tr>\n",
       "    <tr>\n",
       "      <th>sepal_width</th>\n",
       "      <td>0.100298</td>\n",
       "      <td>0.145180</td>\n",
       "    </tr>\n",
       "  </tbody>\n",
       "</table>\n",
       "</div>"
      ],
      "text/plain": [
       "              sepal_length  sepal_width\n",
       "sepal_length      0.124249     0.100298\n",
       "sepal_width       0.100298     0.145180"
      ]
     },
     "execution_count": 5,
     "metadata": {},
     "output_type": "execute_result"
    }
   ],
   "source": [
    "# We compute covariance between the two variables\n",
    "\n",
    "df.cov()"
   ]
  },
  {
   "cell_type": "code",
   "execution_count": 6,
   "metadata": {},
   "outputs": [
    {
     "data": {
      "text/html": [
       "<div>\n",
       "<style scoped>\n",
       "    .dataframe tbody tr th:only-of-type {\n",
       "        vertical-align: middle;\n",
       "    }\n",
       "\n",
       "    .dataframe tbody tr th {\n",
       "        vertical-align: top;\n",
       "    }\n",
       "\n",
       "    .dataframe thead th {\n",
       "        text-align: right;\n",
       "    }\n",
       "</style>\n",
       "<table border=\"1\" class=\"dataframe\">\n",
       "  <thead>\n",
       "    <tr style=\"text-align: right;\">\n",
       "      <th></th>\n",
       "      <th>sepal_length</th>\n",
       "      <th>sepal_width</th>\n",
       "    </tr>\n",
       "  </thead>\n",
       "  <tbody>\n",
       "    <tr>\n",
       "      <th>sepal_length</th>\n",
       "      <td>1.00000</td>\n",
       "      <td>0.74678</td>\n",
       "    </tr>\n",
       "    <tr>\n",
       "      <th>sepal_width</th>\n",
       "      <td>0.74678</td>\n",
       "      <td>1.00000</td>\n",
       "    </tr>\n",
       "  </tbody>\n",
       "</table>\n",
       "</div>"
      ],
      "text/plain": [
       "              sepal_length  sepal_width\n",
       "sepal_length       1.00000      0.74678\n",
       "sepal_width        0.74678      1.00000"
      ]
     },
     "execution_count": 6,
     "metadata": {},
     "output_type": "execute_result"
    }
   ],
   "source": [
    "# We cpompute the correlation between the two variables\n",
    "\n",
    "df.corr()"
   ]
  },
  {
   "cell_type": "code",
   "execution_count": 7,
   "metadata": {},
   "outputs": [],
   "source": [
    "class MyLinReg(object):\n",
    "    \"\"\"\n",
    "    A class used to represent a single artificial neuron for linear regression. \n",
    "\n",
    "    ...\n",
    "\n",
    "    Attributes\n",
    "    ----------\n",
    "    activation_function : function\n",
    "        The activation function applied to the preactivation term.\n",
    "\n",
    "    theta : numpy.ndarray\n",
    "        The weights and bias of the single neuron. The last entry being the bias. \n",
    "        This attribute is created when the fit method is called.\n",
    "\n",
    "    errors : list\n",
    "        A list containing the mean squared error computed after each iteration \n",
    "        of batch gradient descent. \n",
    "\n",
    "    Methods\n",
    "    -------\n",
    "    fit(self, X, y, alpha = 0.001, epochs = 10)\n",
    "        Iterates the batch gradient descent algorithm through each sample\n",
    "        a total of epochs number of times with learning rate alpha. The data \n",
    "        consists of the feature vector X and the associated target y. \n",
    "\n",
    "    predict(self, X)\n",
    "        Uses the weights and bias, the feature vector X, and the \n",
    "        activation_function to make a prediction on each data instance. \n",
    "    \"\"\"\n",
    "    def __init__(self, activation_function):\n",
    "        self.activation_function = activation_function\n",
    "\n",
    "    def fit(self, X, y, alpha = 0.001, epochs = 10):\n",
    "        self.theta = np.random.rand(X.shape[1] + 1)\n",
    "        self.errors = []\n",
    "        n = X.shape[0]\n",
    "\n",
    "        for _ in range(epochs):\n",
    "            errors = 0\n",
    "            sum_1 = 0\n",
    "            sum_2 = 0\n",
    "            for xi, yi in zip(X, y):\n",
    "                sum_1 += (self.predict(xi) - yi)*xi\n",
    "                sum_2 += (self.predict(xi) - yi)\n",
    "                errors += ((self.predict(xi) - yi)**2)\n",
    "            self.theta[:-1] -= 2*alpha*sum_1/n\n",
    "            self.theta[-1] -= 2*alpha*sum_2/n\n",
    "            self.errors.append(errors/n)\n",
    "            \n",
    "        return self\n",
    "\n",
    "    def predict(self, X):\n",
    "        weighted_sum = np.dot(X, self.theta[:-1]) + self.theta[-1]\n",
    "        return self.activation_function(weighted_sum)"
   ]
  },
  {
   "cell_type": "code",
   "execution_count": 8,
   "metadata": {},
   "outputs": [
    {
     "data": {
      "text/plain": [
       "array([[5.1],\n",
       "       [4.9],\n",
       "       [4.7],\n",
       "       [4.6],\n",
       "       [5. ],\n",
       "       [5.4],\n",
       "       [4.6],\n",
       "       [5. ],\n",
       "       [4.4],\n",
       "       [4.9],\n",
       "       [5.4],\n",
       "       [4.8],\n",
       "       [4.8],\n",
       "       [4.3],\n",
       "       [5.8],\n",
       "       [5.7],\n",
       "       [5.4],\n",
       "       [5.1],\n",
       "       [5.7],\n",
       "       [5.1],\n",
       "       [5.4],\n",
       "       [5.1],\n",
       "       [4.6],\n",
       "       [5.1],\n",
       "       [4.8],\n",
       "       [5. ],\n",
       "       [5. ],\n",
       "       [5.2],\n",
       "       [5.2],\n",
       "       [4.7],\n",
       "       [4.8],\n",
       "       [5.4],\n",
       "       [5.2],\n",
       "       [5.5],\n",
       "       [4.9],\n",
       "       [5. ],\n",
       "       [5.5],\n",
       "       [4.9],\n",
       "       [4.4],\n",
       "       [5.1],\n",
       "       [5. ],\n",
       "       [4.5],\n",
       "       [4.4],\n",
       "       [5. ],\n",
       "       [5.1],\n",
       "       [4.8],\n",
       "       [5.1],\n",
       "       [4.6],\n",
       "       [5.3],\n",
       "       [5. ]])"
      ]
     },
     "execution_count": 8,
     "metadata": {},
     "output_type": "execute_result"
    }
   ],
   "source": [
    "X = df[['sepal_length']].to_numpy()\n",
    "X"
   ]
  },
  {
   "cell_type": "code",
   "execution_count": 9,
   "metadata": {},
   "outputs": [
    {
     "data": {
      "text/plain": [
       "(50, 1)"
      ]
     },
     "execution_count": 9,
     "metadata": {},
     "output_type": "execute_result"
    }
   ],
   "source": [
    "X.shape"
   ]
  },
  {
   "cell_type": "code",
   "execution_count": 10,
   "metadata": {},
   "outputs": [
    {
     "data": {
      "text/plain": [
       "array([3.5, 3. , 3.2, 3.1, 3.6, 3.9, 3.4, 3.4, 2.9, 3.1, 3.7, 3.4, 3. ,\n",
       "       3. , 4. , 4.4, 3.9, 3.5, 3.8, 3.8, 3.4, 3.7, 3.6, 3.3, 3.4, 3. ,\n",
       "       3.4, 3.5, 3.4, 3.2, 3.1, 3.4, 4.1, 4.2, 3.1, 3.2, 3.5, 3.1, 3. ,\n",
       "       3.4, 3.5, 2.3, 3.2, 3.5, 3.8, 3. , 3.8, 3.2, 3.7, 3.3])"
      ]
     },
     "execution_count": 10,
     "metadata": {},
     "output_type": "execute_result"
    }
   ],
   "source": [
    "y = df['sepal_width'].to_numpy()\n",
    "y"
   ]
  },
  {
   "cell_type": "code",
   "execution_count": 11,
   "metadata": {},
   "outputs": [],
   "source": [
    "def identity_function(z):\n",
    "    return z"
   ]
  },
  {
   "cell_type": "code",
   "execution_count": 12,
   "metadata": {},
   "outputs": [
    {
     "data": {
      "text/plain": [
       "<__main__.MyLinReg at 0x221c0839be0>"
      ]
     },
     "execution_count": 12,
     "metadata": {},
     "output_type": "execute_result"
    }
   ],
   "source": [
    "# We instantiate an instance of MyLinReg class with identity activation function\n",
    "\n",
    "model = MyLinReg(identity_function)\n",
    "model.fit(X, y)"
   ]
  },
  {
   "cell_type": "code",
   "execution_count": 13,
   "metadata": {},
   "outputs": [
    {
     "data": {
      "text/plain": [
       "array([2.14891633, 2.08220664, 2.01549695, 1.9821421 , 2.11556149,\n",
       "       2.24898088, 1.9821421 , 2.11556149, 1.9154324 , 2.08220664,\n",
       "       2.24898088, 2.04885179, 2.04885179, 1.88207756, 2.38240026,\n",
       "       2.34904542, 2.24898088, 2.14891633, 2.34904542, 2.14891633,\n",
       "       2.24898088, 2.14891633, 1.9821421 , 2.14891633, 2.04885179,\n",
       "       2.11556149, 2.11556149, 2.18227118, 2.18227118, 2.01549695,\n",
       "       2.04885179, 2.24898088, 2.18227118, 2.28233572, 2.08220664,\n",
       "       2.11556149, 2.28233572, 2.08220664, 1.9154324 , 2.14891633,\n",
       "       2.11556149, 1.94878725, 1.9154324 , 2.11556149, 2.14891633,\n",
       "       2.04885179, 2.14891633, 1.9821421 , 2.21562603, 2.11556149])"
      ]
     },
     "execution_count": 13,
     "metadata": {},
     "output_type": "execute_result"
    }
   ],
   "source": [
    "model.predict(X)"
   ]
  },
  {
   "cell_type": "code",
   "execution_count": 14,
   "metadata": {},
   "outputs": [
    {
     "data": {
      "image/png": "[encoded data removed]",
      "text/plain": [
       "<Figure size 576x432 with 1 Axes>"
      ]
     },
     "metadata": {
      "needs_background": "light"
     },
     "output_type": "display_data"
    }
   ],
   "source": [
    "domain_x = np.linspace(np.min(X), np.max(X), 5)\n",
    "domain_y = model.predict(domain_x.reshape(-1,1))\n",
    "\n",
    "plt.figure(figsize = (8, 6))\n",
    "\n",
    "plt.scatter(X, y, label = \"data\")\n",
    "plt.plot(domain_x, domain_y, color=\"red\", label =\"regression line\")\n",
    "plt.xlabel(\"sepal length\", fontsize = 15)\n",
    "plt.ylabel(\"sepal width\", fontsize = 15)\n",
    "plt.legend(fontsize=15);"
   ]
  },
  {
   "cell_type": "code",
   "execution_count": 15,
   "metadata": {},
   "outputs": [
    {
     "data": {
      "image/png": "[encoded data removed]",
      "text/plain": [
       "<Figure size 576x432 with 1 Axes>"
      ]
     },
     "metadata": {
      "needs_background": "light"
     },
     "output_type": "display_data"
    }
   ],
   "source": [
    "plt.figure(figsize = (8, 6))\n",
    "\n",
    "plt.plot(range(1, len(model.errors) + 1), \n",
    "         np.sqrt(model.errors),\n",
    "         marker = \"o\")\n",
    "plt.xlabel(\"epochs\", fontsize = 15)\n",
    "plt.ylabel(\"RMSE\", fontsize = 15)\n",
    "plt.xticks(range(1, len(model.errors) + 1))\n",
    "plt.title(\"RMSE at each epoch\", fontsize = 18);"
   ]
  },
  {
   "cell_type": "code",
   "execution_count": 16,
   "metadata": {},
   "outputs": [
    {
     "data": {
      "image/png": "[encoded data removed]",
      "text/plain": [
       "<Figure size 1008x504 with 2 Axes>"
      ]
     },
     "metadata": {
      "needs_background": "light"
     },
     "output_type": "display_data"
    }
   ],
   "source": [
    "model = MyLinReg(identity_function)\n",
    "model.fit(X, y, alpha = 0.001, epochs = 100)\n",
    "\n",
    "domain_x = np.linspace(np.min(X), np.max(X), 2)\n",
    "domain_y = model.predict(domain_x.reshape(-1, 1))\n",
    "\n",
    "fig, (ax1, ax2) = plt.subplots(1, 2, figsize=(14,7))\n",
    "\n",
    "ax1.scatter(X, y)\n",
    "ax1.plot(domain_x, domain_y, color = \"red\")\n",
    "ax1.set_xlabel(\"sepal length\")\n",
    "ax1.set_ylabel(\"sepal width\")\n",
    "ax1.set_title(\"Linear Regression\", fontsize = 18)\n",
    "\n",
    "ax2.plot(range(1, len(model.errors) + 1), \n",
    "         np.sqrt(model.errors),\n",
    "         marker = \"o\")\n",
    "ax2.set_xlabel(\"epochs\")\n",
    "ax2.set_ylabel(\"RMSE\")\n",
    "ax2.set_xticks(range(0, len(model.errors) + 1, 10))\n",
    "ax2.set_title(\"RMSE at each epoch\", fontsize = 18);"
   ]
  },
  {
   "cell_type": "markdown",
   "metadata": {},
   "source": [
    "## Homework 2: \n",
    "\n",
    "### Part 1 \n",
    "\n",
    "(a) Notice that we used 100 epochs which was waste of time and we could have stopped earlier since after about epoch 55 or so, the loss is not getting lower significantly. Modify the above code so that if the change in loss is less than $1\\%$, you exit the iterations. \n",
    "\n",
    "(b) The above class uses batch gradient descent to find the minimum of the loss function. Modify the original code and use the stochastic gradient descent instead. Iterate over many iterations and see how the RMSE changes. The graph of RMSE for the batch gradient descent is smooth and decreasing as the number of iterations increases. What can you say about the graph of RMSE when the stochastic gradient descent is used?  \n",
    "\n"
   ]
  },
  {
   "cell_type": "code",
   "execution_count": 17,
   "metadata": {},
   "outputs": [
    {
     "data": {
      "text/plain": [
       "30"
      ]
     },
     "execution_count": 17,
     "metadata": {},
     "output_type": "execute_result"
    }
   ],
   "source": [
    "np.random.randint(0, 50)"
   ]
  },
  {
   "cell_type": "markdown",
   "metadata": {},
   "source": [
    "## 2) Simple Linear Regression with Sklearn"
   ]
  },
  {
   "cell_type": "code",
   "execution_count": 18,
   "metadata": {},
   "outputs": [],
   "source": [
    "from sklearn.model_selection import train_test_split\n",
    "from sklearn.linear_model import LinearRegression\n",
    "from sklearn.metrics import mean_squared_error\n",
    "\n",
    "import seaborn as sns\n",
    "\n",
    "ads_data = pd.read_csv(\"advertising_dataset.csv\") \n",
    "\n",
    "# https://www.kaggle.com/datasets/ashydv/advertising-dataset\n",
    "# https://scikit-learn.org/stable/modules/generated/sklearn.linear_model.LinearRegression.html\n",
    "# https://scikit-learn.org/stable/modules/generated/sklearn.linear_model.SGDRegressor.html"
   ]
  },
  {
   "cell_type": "markdown",
   "metadata": {},
   "source": [
    "---\n",
    "\n",
    "The advertising dataset captures the sales revenue generated with respect to advertisement costs across multiple media channels like TV, radio, and newspapers. We want to understand the impact of ad budgets on the overall sales.\n",
    "\n",
    "---"
   ]
  },
  {
   "cell_type": "code",
   "execution_count": 19,
   "metadata": {},
   "outputs": [
    {
     "data": {
      "text/html": [
       "<div>\n",
       "<style scoped>\n",
       "    .dataframe tbody tr th:only-of-type {\n",
       "        vertical-align: middle;\n",
       "    }\n",
       "\n",
       "    .dataframe tbody tr th {\n",
       "        vertical-align: top;\n",
       "    }\n",
       "\n",
       "    .dataframe thead th {\n",
       "        text-align: right;\n",
       "    }\n",
       "</style>\n",
       "<table border=\"1\" class=\"dataframe\">\n",
       "  <thead>\n",
       "    <tr style=\"text-align: right;\">\n",
       "      <th></th>\n",
       "      <th>Unnamed: 0</th>\n",
       "      <th>TV</th>\n",
       "      <th>radio</th>\n",
       "      <th>newspaper</th>\n",
       "      <th>sales</th>\n",
       "    </tr>\n",
       "  </thead>\n",
       "  <tbody>\n",
       "    <tr>\n",
       "      <th>0</th>\n",
       "      <td>1</td>\n",
       "      <td>230.1</td>\n",
       "      <td>37.8</td>\n",
       "      <td>69.2</td>\n",
       "      <td>22.1</td>\n",
       "    </tr>\n",
       "    <tr>\n",
       "      <th>1</th>\n",
       "      <td>2</td>\n",
       "      <td>44.5</td>\n",
       "      <td>39.3</td>\n",
       "      <td>45.1</td>\n",
       "      <td>10.4</td>\n",
       "    </tr>\n",
       "    <tr>\n",
       "      <th>2</th>\n",
       "      <td>3</td>\n",
       "      <td>17.2</td>\n",
       "      <td>45.9</td>\n",
       "      <td>69.3</td>\n",
       "      <td>9.3</td>\n",
       "    </tr>\n",
       "    <tr>\n",
       "      <th>3</th>\n",
       "      <td>4</td>\n",
       "      <td>151.5</td>\n",
       "      <td>41.3</td>\n",
       "      <td>58.5</td>\n",
       "      <td>18.5</td>\n",
       "    </tr>\n",
       "    <tr>\n",
       "      <th>4</th>\n",
       "      <td>5</td>\n",
       "      <td>180.8</td>\n",
       "      <td>10.8</td>\n",
       "      <td>58.4</td>\n",
       "      <td>12.9</td>\n",
       "    </tr>\n",
       "    <tr>\n",
       "      <th>...</th>\n",
       "      <td>...</td>\n",
       "      <td>...</td>\n",
       "      <td>...</td>\n",
       "      <td>...</td>\n",
       "      <td>...</td>\n",
       "    </tr>\n",
       "    <tr>\n",
       "      <th>195</th>\n",
       "      <td>196</td>\n",
       "      <td>38.2</td>\n",
       "      <td>3.7</td>\n",
       "      <td>13.8</td>\n",
       "      <td>7.6</td>\n",
       "    </tr>\n",
       "    <tr>\n",
       "      <th>196</th>\n",
       "      <td>197</td>\n",
       "      <td>94.2</td>\n",
       "      <td>4.9</td>\n",
       "      <td>8.1</td>\n",
       "      <td>9.7</td>\n",
       "    </tr>\n",
       "    <tr>\n",
       "      <th>197</th>\n",
       "      <td>198</td>\n",
       "      <td>177.0</td>\n",
       "      <td>9.3</td>\n",
       "      <td>6.4</td>\n",
       "      <td>12.8</td>\n",
       "    </tr>\n",
       "    <tr>\n",
       "      <th>198</th>\n",
       "      <td>199</td>\n",
       "      <td>283.6</td>\n",
       "      <td>42.0</td>\n",
       "      <td>66.2</td>\n",
       "      <td>25.5</td>\n",
       "    </tr>\n",
       "    <tr>\n",
       "      <th>199</th>\n",
       "      <td>200</td>\n",
       "      <td>232.1</td>\n",
       "      <td>8.6</td>\n",
       "      <td>8.7</td>\n",
       "      <td>13.4</td>\n",
       "    </tr>\n",
       "  </tbody>\n",
       "</table>\n",
       "<p>200 rows × 5 columns</p>\n",
       "</div>"
      ],
      "text/plain": [
       "     Unnamed: 0     TV  radio  newspaper  sales\n",
       "0             1  230.1   37.8       69.2   22.1\n",
       "1             2   44.5   39.3       45.1   10.4\n",
       "2             3   17.2   45.9       69.3    9.3\n",
       "3             4  151.5   41.3       58.5   18.5\n",
       "4             5  180.8   10.8       58.4   12.9\n",
       "..          ...    ...    ...        ...    ...\n",
       "195         196   38.2    3.7       13.8    7.6\n",
       "196         197   94.2    4.9        8.1    9.7\n",
       "197         198  177.0    9.3        6.4   12.8\n",
       "198         199  283.6   42.0       66.2   25.5\n",
       "199         200  232.1    8.6        8.7   13.4\n",
       "\n",
       "[200 rows x 5 columns]"
      ]
     },
     "execution_count": 19,
     "metadata": {},
     "output_type": "execute_result"
    }
   ],
   "source": [
    "ads_data"
   ]
  },
  {
   "cell_type": "code",
   "execution_count": 20,
   "metadata": {},
   "outputs": [
    {
     "data": {
      "text/html": [
       "<div>\n",
       "<style scoped>\n",
       "    .dataframe tbody tr th:only-of-type {\n",
       "        vertical-align: middle;\n",
       "    }\n",
       "\n",
       "    .dataframe tbody tr th {\n",
       "        vertical-align: top;\n",
       "    }\n",
       "\n",
       "    .dataframe thead th {\n",
       "        text-align: right;\n",
       "    }\n",
       "</style>\n",
       "<table border=\"1\" class=\"dataframe\">\n",
       "  <thead>\n",
       "    <tr style=\"text-align: right;\">\n",
       "      <th></th>\n",
       "      <th>TV</th>\n",
       "      <th>radio</th>\n",
       "      <th>newspaper</th>\n",
       "      <th>sales</th>\n",
       "    </tr>\n",
       "  </thead>\n",
       "  <tbody>\n",
       "    <tr>\n",
       "      <th>0</th>\n",
       "      <td>230.1</td>\n",
       "      <td>37.8</td>\n",
       "      <td>69.2</td>\n",
       "      <td>22.1</td>\n",
       "    </tr>\n",
       "    <tr>\n",
       "      <th>1</th>\n",
       "      <td>44.5</td>\n",
       "      <td>39.3</td>\n",
       "      <td>45.1</td>\n",
       "      <td>10.4</td>\n",
       "    </tr>\n",
       "    <tr>\n",
       "      <th>2</th>\n",
       "      <td>17.2</td>\n",
       "      <td>45.9</td>\n",
       "      <td>69.3</td>\n",
       "      <td>9.3</td>\n",
       "    </tr>\n",
       "    <tr>\n",
       "      <th>3</th>\n",
       "      <td>151.5</td>\n",
       "      <td>41.3</td>\n",
       "      <td>58.5</td>\n",
       "      <td>18.5</td>\n",
       "    </tr>\n",
       "    <tr>\n",
       "      <th>4</th>\n",
       "      <td>180.8</td>\n",
       "      <td>10.8</td>\n",
       "      <td>58.4</td>\n",
       "      <td>12.9</td>\n",
       "    </tr>\n",
       "    <tr>\n",
       "      <th>5</th>\n",
       "      <td>8.7</td>\n",
       "      <td>48.9</td>\n",
       "      <td>75.0</td>\n",
       "      <td>7.2</td>\n",
       "    </tr>\n",
       "    <tr>\n",
       "      <th>6</th>\n",
       "      <td>57.5</td>\n",
       "      <td>32.8</td>\n",
       "      <td>23.5</td>\n",
       "      <td>11.8</td>\n",
       "    </tr>\n",
       "    <tr>\n",
       "      <th>7</th>\n",
       "      <td>120.2</td>\n",
       "      <td>19.6</td>\n",
       "      <td>11.6</td>\n",
       "      <td>13.2</td>\n",
       "    </tr>\n",
       "    <tr>\n",
       "      <th>8</th>\n",
       "      <td>8.6</td>\n",
       "      <td>2.1</td>\n",
       "      <td>1.0</td>\n",
       "      <td>4.8</td>\n",
       "    </tr>\n",
       "    <tr>\n",
       "      <th>9</th>\n",
       "      <td>199.8</td>\n",
       "      <td>2.6</td>\n",
       "      <td>21.2</td>\n",
       "      <td>10.6</td>\n",
       "    </tr>\n",
       "  </tbody>\n",
       "</table>\n",
       "</div>"
      ],
      "text/plain": [
       "      TV  radio  newspaper  sales\n",
       "0  230.1   37.8       69.2   22.1\n",
       "1   44.5   39.3       45.1   10.4\n",
       "2   17.2   45.9       69.3    9.3\n",
       "3  151.5   41.3       58.5   18.5\n",
       "4  180.8   10.8       58.4   12.9\n",
       "5    8.7   48.9       75.0    7.2\n",
       "6   57.5   32.8       23.5   11.8\n",
       "7  120.2   19.6       11.6   13.2\n",
       "8    8.6    2.1        1.0    4.8\n",
       "9  199.8    2.6       21.2   10.6"
      ]
     },
     "execution_count": 20,
     "metadata": {},
     "output_type": "execute_result"
    }
   ],
   "source": [
    "ads_data = ads_data[[\"TV\", \"radio\", \"newspaper\", \"sales\"]]\n",
    "ads_data.head(10)"
   ]
  },
  {
   "cell_type": "code",
   "execution_count": 21,
   "metadata": {},
   "outputs": [
    {
     "name": "stdout",
     "output_type": "stream",
     "text": [
      "<class 'pandas.core.frame.DataFrame'>\n",
      "RangeIndex: 200 entries, 0 to 199\n",
      "Data columns (total 4 columns):\n",
      " #   Column     Non-Null Count  Dtype  \n",
      "---  ------     --------------  -----  \n",
      " 0   TV         200 non-null    float64\n",
      " 1   radio      200 non-null    float64\n",
      " 2   newspaper  200 non-null    float64\n",
      " 3   sales      200 non-null    float64\n",
      "dtypes: float64(4)\n",
      "memory usage: 6.4 KB\n"
     ]
    }
   ],
   "source": [
    "ads_data.info()"
   ]
  },
  {
   "cell_type": "code",
   "execution_count": 22,
   "metadata": {},
   "outputs": [
    {
     "data": {
      "text/html": [
       "<div>\n",
       "<style scoped>\n",
       "    .dataframe tbody tr th:only-of-type {\n",
       "        vertical-align: middle;\n",
       "    }\n",
       "\n",
       "    .dataframe tbody tr th {\n",
       "        vertical-align: top;\n",
       "    }\n",
       "\n",
       "    .dataframe thead th {\n",
       "        text-align: right;\n",
       "    }\n",
       "</style>\n",
       "<table border=\"1\" class=\"dataframe\">\n",
       "  <thead>\n",
       "    <tr style=\"text-align: right;\">\n",
       "      <th></th>\n",
       "      <th>TV</th>\n",
       "      <th>radio</th>\n",
       "      <th>newspaper</th>\n",
       "      <th>sales</th>\n",
       "    </tr>\n",
       "  </thead>\n",
       "  <tbody>\n",
       "    <tr>\n",
       "      <th>count</th>\n",
       "      <td>200.000000</td>\n",
       "      <td>200.000000</td>\n",
       "      <td>200.000000</td>\n",
       "      <td>200.000000</td>\n",
       "    </tr>\n",
       "    <tr>\n",
       "      <th>mean</th>\n",
       "      <td>147.042500</td>\n",
       "      <td>23.264000</td>\n",
       "      <td>30.554000</td>\n",
       "      <td>14.022500</td>\n",
       "    </tr>\n",
       "    <tr>\n",
       "      <th>std</th>\n",
       "      <td>85.854236</td>\n",
       "      <td>14.846809</td>\n",
       "      <td>21.778621</td>\n",
       "      <td>5.217457</td>\n",
       "    </tr>\n",
       "    <tr>\n",
       "      <th>min</th>\n",
       "      <td>0.700000</td>\n",
       "      <td>0.000000</td>\n",
       "      <td>0.300000</td>\n",
       "      <td>1.600000</td>\n",
       "    </tr>\n",
       "    <tr>\n",
       "      <th>25%</th>\n",
       "      <td>74.375000</td>\n",
       "      <td>9.975000</td>\n",
       "      <td>12.750000</td>\n",
       "      <td>10.375000</td>\n",
       "    </tr>\n",
       "    <tr>\n",
       "      <th>50%</th>\n",
       "      <td>149.750000</td>\n",
       "      <td>22.900000</td>\n",
       "      <td>25.750000</td>\n",
       "      <td>12.900000</td>\n",
       "    </tr>\n",
       "    <tr>\n",
       "      <th>75%</th>\n",
       "      <td>218.825000</td>\n",
       "      <td>36.525000</td>\n",
       "      <td>45.100000</td>\n",
       "      <td>17.400000</td>\n",
       "    </tr>\n",
       "    <tr>\n",
       "      <th>max</th>\n",
       "      <td>296.400000</td>\n",
       "      <td>49.600000</td>\n",
       "      <td>114.000000</td>\n",
       "      <td>27.000000</td>\n",
       "    </tr>\n",
       "  </tbody>\n",
       "</table>\n",
       "</div>"
      ],
      "text/plain": [
       "               TV       radio   newspaper       sales\n",
       "count  200.000000  200.000000  200.000000  200.000000\n",
       "mean   147.042500   23.264000   30.554000   14.022500\n",
       "std     85.854236   14.846809   21.778621    5.217457\n",
       "min      0.700000    0.000000    0.300000    1.600000\n",
       "25%     74.375000    9.975000   12.750000   10.375000\n",
       "50%    149.750000   22.900000   25.750000   12.900000\n",
       "75%    218.825000   36.525000   45.100000   17.400000\n",
       "max    296.400000   49.600000  114.000000   27.000000"
      ]
     },
     "execution_count": 22,
     "metadata": {},
     "output_type": "execute_result"
    }
   ],
   "source": [
    "ads_data.describe()"
   ]
  },
  {
   "cell_type": "code",
   "execution_count": 23,
   "metadata": {},
   "outputs": [
    {
     "data": {
      "text/plain": [
       "<seaborn.axisgrid.PairGrid at 0x221c0e05eb0>"
      ]
     },
     "execution_count": 23,
     "metadata": {},
     "output_type": "execute_result"
    },
    {
     "data": {
      "image/png": "[encoded data removed]",
      "text/plain": [
       "<Figure size 720x720 with 20 Axes>"
      ]
     },
     "metadata": {
      "needs_background": "light"
     },
     "output_type": "display_data"
    }
   ],
   "source": [
    "sns.pairplot(ads_data)"
   ]
  },
  {
   "cell_type": "code",
   "execution_count": 24,
   "metadata": {},
   "outputs": [
    {
     "data": {
      "text/html": [
       "<div>\n",
       "<style scoped>\n",
       "    .dataframe tbody tr th:only-of-type {\n",
       "        vertical-align: middle;\n",
       "    }\n",
       "\n",
       "    .dataframe tbody tr th {\n",
       "        vertical-align: top;\n",
       "    }\n",
       "\n",
       "    .dataframe thead th {\n",
       "        text-align: right;\n",
       "    }\n",
       "</style>\n",
       "<table border=\"1\" class=\"dataframe\">\n",
       "  <thead>\n",
       "    <tr style=\"text-align: right;\">\n",
       "      <th></th>\n",
       "      <th>TV</th>\n",
       "      <th>radio</th>\n",
       "      <th>newspaper</th>\n",
       "      <th>sales</th>\n",
       "    </tr>\n",
       "  </thead>\n",
       "  <tbody>\n",
       "    <tr>\n",
       "      <th>TV</th>\n",
       "      <td>7370.949893</td>\n",
       "      <td>69.862492</td>\n",
       "      <td>105.919452</td>\n",
       "      <td>350.390195</td>\n",
       "    </tr>\n",
       "    <tr>\n",
       "      <th>radio</th>\n",
       "      <td>69.862492</td>\n",
       "      <td>220.427743</td>\n",
       "      <td>114.496979</td>\n",
       "      <td>44.635688</td>\n",
       "    </tr>\n",
       "    <tr>\n",
       "      <th>newspaper</th>\n",
       "      <td>105.919452</td>\n",
       "      <td>114.496979</td>\n",
       "      <td>474.308326</td>\n",
       "      <td>25.941392</td>\n",
       "    </tr>\n",
       "    <tr>\n",
       "      <th>sales</th>\n",
       "      <td>350.390195</td>\n",
       "      <td>44.635688</td>\n",
       "      <td>25.941392</td>\n",
       "      <td>27.221853</td>\n",
       "    </tr>\n",
       "  </tbody>\n",
       "</table>\n",
       "</div>"
      ],
      "text/plain": [
       "                    TV       radio   newspaper       sales\n",
       "TV         7370.949893   69.862492  105.919452  350.390195\n",
       "radio        69.862492  220.427743  114.496979   44.635688\n",
       "newspaper   105.919452  114.496979  474.308326   25.941392\n",
       "sales       350.390195   44.635688   25.941392   27.221853"
      ]
     },
     "execution_count": 24,
     "metadata": {},
     "output_type": "execute_result"
    }
   ],
   "source": [
    "ads_data.cov()"
   ]
  },
  {
   "cell_type": "code",
   "execution_count": 25,
   "metadata": {},
   "outputs": [
    {
     "data": {
      "text/html": [
       "<div>\n",
       "<style scoped>\n",
       "    .dataframe tbody tr th:only-of-type {\n",
       "        vertical-align: middle;\n",
       "    }\n",
       "\n",
       "    .dataframe tbody tr th {\n",
       "        vertical-align: top;\n",
       "    }\n",
       "\n",
       "    .dataframe thead th {\n",
       "        text-align: right;\n",
       "    }\n",
       "</style>\n",
       "<table border=\"1\" class=\"dataframe\">\n",
       "  <thead>\n",
       "    <tr style=\"text-align: right;\">\n",
       "      <th></th>\n",
       "      <th>TV</th>\n",
       "      <th>radio</th>\n",
       "      <th>newspaper</th>\n",
       "      <th>sales</th>\n",
       "    </tr>\n",
       "  </thead>\n",
       "  <tbody>\n",
       "    <tr>\n",
       "      <th>TV</th>\n",
       "      <td>1.00</td>\n",
       "      <td>0.05</td>\n",
       "      <td>0.06</td>\n",
       "      <td>0.78</td>\n",
       "    </tr>\n",
       "    <tr>\n",
       "      <th>radio</th>\n",
       "      <td>0.05</td>\n",
       "      <td>1.00</td>\n",
       "      <td>0.35</td>\n",
       "      <td>0.58</td>\n",
       "    </tr>\n",
       "    <tr>\n",
       "      <th>newspaper</th>\n",
       "      <td>0.06</td>\n",
       "      <td>0.35</td>\n",
       "      <td>1.00</td>\n",
       "      <td>0.23</td>\n",
       "    </tr>\n",
       "    <tr>\n",
       "      <th>sales</th>\n",
       "      <td>0.78</td>\n",
       "      <td>0.58</td>\n",
       "      <td>0.23</td>\n",
       "      <td>1.00</td>\n",
       "    </tr>\n",
       "  </tbody>\n",
       "</table>\n",
       "</div>"
      ],
      "text/plain": [
       "             TV  radio  newspaper  sales\n",
       "TV         1.00   0.05       0.06   0.78\n",
       "radio      0.05   1.00       0.35   0.58\n",
       "newspaper  0.06   0.35       1.00   0.23\n",
       "sales      0.78   0.58       0.23   1.00"
      ]
     },
     "execution_count": 25,
     "metadata": {},
     "output_type": "execute_result"
    }
   ],
   "source": [
    "corr_matrix = np.round(ads_data.corr(), 2)\n",
    "corr_matrix"
   ]
  },
  {
   "cell_type": "code",
   "execution_count": 26,
   "metadata": {},
   "outputs": [
    {
     "data": {
      "image/png": "[encoded data removed]",
      "text/plain": [
       "<Figure size 432x288 with 2 Axes>"
      ]
     },
     "metadata": {
      "needs_background": "light"
     },
     "output_type": "display_data"
    }
   ],
   "source": [
    "sns.heatmap(data=corr_matrix, annot=True, cmap=\"coolwarm\");"
   ]
  },
  {
   "cell_type": "markdown",
   "metadata": {},
   "source": [
    "---\n",
    "\n",
    "Based on the scatter plots as well as on the correlation coefficients, we choose to create a linear regression model to \n",
    "predict \"sales\" based on \"TV\".\n",
    "\n",
    "---"
   ]
  },
  {
   "cell_type": "code",
   "execution_count": 27,
   "metadata": {},
   "outputs": [],
   "source": [
    "X = ads_data[['TV']]\n",
    "y = ads_data['sales']"
   ]
  },
  {
   "cell_type": "code",
   "execution_count": 28,
   "metadata": {},
   "outputs": [],
   "source": [
    "X_train, X_test, y_train, y_test = train_test_split(X, y, test_size=0.2, random_state=42)\n",
    "\n",
    "# Some recommend to do the train_test_split at the very beginning and \n",
    "# perform exploratory data analysis (EDA) only on the training data, \n",
    "# while some recommend to do EDA on the entire data set"
   ]
  },
  {
   "cell_type": "code",
   "execution_count": 29,
   "metadata": {},
   "outputs": [
    {
     "data": {
      "text/plain": [
       "LinearRegression()"
      ]
     },
     "execution_count": 29,
     "metadata": {},
     "output_type": "execute_result"
    }
   ],
   "source": [
    "lin_reg = LinearRegression()\n",
    "\n",
    "lin_reg.fit(X_train, y_train)"
   ]
  },
  {
   "cell_type": "code",
   "execution_count": 30,
   "metadata": {},
   "outputs": [
    {
     "data": {
      "text/plain": [
       "(array([0.04652973]), 7.1196384305929525)"
      ]
     },
     "execution_count": 30,
     "metadata": {},
     "output_type": "execute_result"
    }
   ],
   "source": [
    "w = lin_reg.coef_\n",
    "b = lin_reg.intercept_\n",
    "w, b"
   ]
  },
  {
   "cell_type": "code",
   "execution_count": 31,
   "metadata": {},
   "outputs": [
    {
     "name": "stdout",
     "output_type": "stream",
     "text": [
      "The linear regression model based on the training data is \n",
      "\n",
      "predicted_sales = 0.047 * TV + 7.12\n"
     ]
    }
   ],
   "source": [
    "print(\"The linear regression model based on the training data is \\n\")\n",
    "print(f\"predicted_sales = {np.round(w[0],3)} * TV + {np.round(b,3)}\")"
   ]
  },
  {
   "cell_type": "code",
   "execution_count": 32,
   "metadata": {},
   "outputs": [
    {
     "name": "stderr",
     "output_type": "stream",
     "text": [
      "C:\\ProgramData\\Anaconda3\\lib\\site-packages\\sklearn\\base.py:450: UserWarning: X does not have valid feature names, but LinearRegression was fitted with feature names\n",
      "  warnings.warn(\n"
     ]
    },
    {
     "data": {
      "image/png": "[encoded data removed]",
      "text/plain": [
       "<Figure size 576x432 with 1 Axes>"
      ]
     },
     "metadata": {
      "needs_background": "light"
     },
     "output_type": "display_data"
    }
   ],
   "source": [
    "domain = np.linspace(X.min(), X.max(), 100)  \n",
    "\n",
    "plt.figure(figsize = (8, 6))\n",
    "\n",
    "#plt.scatter(X_train, y_train, color='green', label='training data')\n",
    "plt.scatter(X_test, y_test, color='blue', label='test data')\n",
    "plt.plot(domain, lin_reg.predict(domain), color=\"red\")\n",
    "plt.title('Linear Regression Model', fontsize=18)\n",
    "plt.xlabel('TV', fontsize=15)\n",
    "plt.ylabel('sales', fontsize=15)\n",
    "plt.legend()\n",
    "plt.grid();"
   ]
  },
  {
   "cell_type": "code",
   "execution_count": 33,
   "metadata": {},
   "outputs": [
    {
     "data": {
      "text/html": [
       "<div>\n",
       "<style scoped>\n",
       "    .dataframe tbody tr th:only-of-type {\n",
       "        vertical-align: middle;\n",
       "    }\n",
       "\n",
       "    .dataframe tbody tr th {\n",
       "        vertical-align: top;\n",
       "    }\n",
       "\n",
       "    .dataframe thead th {\n",
       "        text-align: right;\n",
       "    }\n",
       "</style>\n",
       "<table border=\"1\" class=\"dataframe\">\n",
       "  <thead>\n",
       "    <tr style=\"text-align: right;\">\n",
       "      <th></th>\n",
       "      <th>TV</th>\n",
       "      <th>radio</th>\n",
       "      <th>newspaper</th>\n",
       "      <th>sales</th>\n",
       "      <th>predicted_sales</th>\n",
       "      <th>residuals</th>\n",
       "    </tr>\n",
       "  </thead>\n",
       "  <tbody>\n",
       "    <tr>\n",
       "      <th>0</th>\n",
       "      <td>230.1</td>\n",
       "      <td>37.8</td>\n",
       "      <td>69.2</td>\n",
       "      <td>22.1</td>\n",
       "      <td>18.0</td>\n",
       "      <td>-4.1</td>\n",
       "    </tr>\n",
       "    <tr>\n",
       "      <th>1</th>\n",
       "      <td>44.5</td>\n",
       "      <td>39.3</td>\n",
       "      <td>45.1</td>\n",
       "      <td>10.4</td>\n",
       "      <td>9.0</td>\n",
       "      <td>-1.4</td>\n",
       "    </tr>\n",
       "    <tr>\n",
       "      <th>2</th>\n",
       "      <td>17.2</td>\n",
       "      <td>45.9</td>\n",
       "      <td>69.3</td>\n",
       "      <td>9.3</td>\n",
       "      <td>8.0</td>\n",
       "      <td>-1.3</td>\n",
       "    </tr>\n",
       "    <tr>\n",
       "      <th>3</th>\n",
       "      <td>151.5</td>\n",
       "      <td>41.3</td>\n",
       "      <td>58.5</td>\n",
       "      <td>18.5</td>\n",
       "      <td>14.0</td>\n",
       "      <td>-4.5</td>\n",
       "    </tr>\n",
       "    <tr>\n",
       "      <th>4</th>\n",
       "      <td>180.8</td>\n",
       "      <td>10.8</td>\n",
       "      <td>58.4</td>\n",
       "      <td>12.9</td>\n",
       "      <td>16.0</td>\n",
       "      <td>3.1</td>\n",
       "    </tr>\n",
       "    <tr>\n",
       "      <th>...</th>\n",
       "      <td>...</td>\n",
       "      <td>...</td>\n",
       "      <td>...</td>\n",
       "      <td>...</td>\n",
       "      <td>...</td>\n",
       "      <td>...</td>\n",
       "    </tr>\n",
       "    <tr>\n",
       "      <th>195</th>\n",
       "      <td>38.2</td>\n",
       "      <td>3.7</td>\n",
       "      <td>13.8</td>\n",
       "      <td>7.6</td>\n",
       "      <td>9.0</td>\n",
       "      <td>1.4</td>\n",
       "    </tr>\n",
       "    <tr>\n",
       "      <th>196</th>\n",
       "      <td>94.2</td>\n",
       "      <td>4.9</td>\n",
       "      <td>8.1</td>\n",
       "      <td>9.7</td>\n",
       "      <td>12.0</td>\n",
       "      <td>2.3</td>\n",
       "    </tr>\n",
       "    <tr>\n",
       "      <th>197</th>\n",
       "      <td>177.0</td>\n",
       "      <td>9.3</td>\n",
       "      <td>6.4</td>\n",
       "      <td>12.8</td>\n",
       "      <td>15.0</td>\n",
       "      <td>2.2</td>\n",
       "    </tr>\n",
       "    <tr>\n",
       "      <th>198</th>\n",
       "      <td>283.6</td>\n",
       "      <td>42.0</td>\n",
       "      <td>66.2</td>\n",
       "      <td>25.5</td>\n",
       "      <td>20.0</td>\n",
       "      <td>-5.5</td>\n",
       "    </tr>\n",
       "    <tr>\n",
       "      <th>199</th>\n",
       "      <td>232.1</td>\n",
       "      <td>8.6</td>\n",
       "      <td>8.7</td>\n",
       "      <td>13.4</td>\n",
       "      <td>18.0</td>\n",
       "      <td>4.6</td>\n",
       "    </tr>\n",
       "  </tbody>\n",
       "</table>\n",
       "<p>200 rows × 6 columns</p>\n",
       "</div>"
      ],
      "text/plain": [
       "        TV  radio  newspaper  sales  predicted_sales  residuals\n",
       "0    230.1   37.8       69.2   22.1             18.0       -4.1\n",
       "1     44.5   39.3       45.1   10.4              9.0       -1.4\n",
       "2     17.2   45.9       69.3    9.3              8.0       -1.3\n",
       "3    151.5   41.3       58.5   18.5             14.0       -4.5\n",
       "4    180.8   10.8       58.4   12.9             16.0        3.1\n",
       "..     ...    ...        ...    ...              ...        ...\n",
       "195   38.2    3.7       13.8    7.6              9.0        1.4\n",
       "196   94.2    4.9        8.1    9.7             12.0        2.3\n",
       "197  177.0    9.3        6.4   12.8             15.0        2.2\n",
       "198  283.6   42.0       66.2   25.5             20.0       -5.5\n",
       "199  232.1    8.6        8.7   13.4             18.0        4.6\n",
       "\n",
       "[200 rows x 6 columns]"
      ]
     },
     "execution_count": 33,
     "metadata": {},
     "output_type": "execute_result"
    }
   ],
   "source": [
    "predictions = lin_reg.predict(X)\n",
    "\n",
    "ads_data['predicted_sales'] = np.round(predictions)\n",
    "\n",
    "residuals = ads_data['predicted_sales'] - y\n",
    "\n",
    "ads_data['residuals'] = residuals\n",
    "\n",
    "ads_data"
   ]
  },
  {
   "cell_type": "code",
   "execution_count": 34,
   "metadata": {},
   "outputs": [
    {
     "name": "stdout",
     "output_type": "stream",
     "text": [
      "RMSE on the training data: 3.256317025565734\n",
      "\n",
      "RMSE on the test data: 3.194472431998898\n"
     ]
    }
   ],
   "source": [
    "mse_train = mean_squared_error(y_train, lin_reg.predict(X_train))\n",
    "mse_test = mean_squared_error(y_test, lin_reg.predict(X_test))\n",
    "\n",
    "print(f\"RMSE on the training data: {np.sqrt(mse_train)}\\n\")\n",
    "print(f\"RMSE on the test data: {np.sqrt(mse_test)}\")"
   ]
  },
  {
   "cell_type": "markdown",
   "metadata": {},
   "source": [
    "## Multiple Linear Regression with Sklearn"
   ]
  },
  {
   "cell_type": "code",
   "execution_count": 35,
   "metadata": {},
   "outputs": [],
   "source": [
    "X = ads_data[['TV', 'radio']]\n",
    "y = ads_data['sales']"
   ]
  },
  {
   "cell_type": "code",
   "execution_count": 36,
   "metadata": {},
   "outputs": [],
   "source": [
    "X_train, X_test, y_train, y_test = train_test_split(X, y, test_size=0.3, random_state=42)"
   ]
  },
  {
   "cell_type": "code",
   "execution_count": 37,
   "metadata": {},
   "outputs": [
    {
     "data": {
      "text/plain": [
       "LinearRegression()"
      ]
     },
     "execution_count": 37,
     "metadata": {},
     "output_type": "execute_result"
    }
   ],
   "source": [
    "reg = LinearRegression()\n",
    "\n",
    "reg.fit(X_train, y_train)"
   ]
  },
  {
   "cell_type": "code",
   "execution_count": 38,
   "metadata": {},
   "outputs": [
    {
     "data": {
      "text/plain": [
       "(array([0.04407736, 0.20260566]), 2.837617236905178)"
      ]
     },
     "execution_count": 38,
     "metadata": {},
     "output_type": "execute_result"
    }
   ],
   "source": [
    "w = reg.coef_\n",
    "b = reg.intercept_\n",
    "\n",
    "w, b"
   ]
  },
  {
   "cell_type": "code",
   "execution_count": 39,
   "metadata": {},
   "outputs": [
    {
     "name": "stdout",
     "output_type": "stream",
     "text": [
      "The linear regression model based on the training data is \n",
      "\n",
      "predicted_sales = 0.044 * TV + 0.203 * radio + 2.838\n"
     ]
    }
   ],
   "source": [
    "print(f\"The linear regression model based on the training data is \\n\")\n",
    "print(f\"predicted_sales = {np.round(w[0],3)} * TV + {np.round(w[1],3)} * radio + {np.round(b,3)}\")"
   ]
  },
  {
   "cell_type": "code",
   "execution_count": 40,
   "metadata": {},
   "outputs": [
    {
     "name": "stdout",
     "output_type": "stream",
     "text": [
      "RMSE on the training data: 1.5802375959959865\n",
      "\n",
      "RMSE on the test data: 1.915475673176425\n"
     ]
    }
   ],
   "source": [
    "mse_train = mean_squared_error(y_train, reg.predict(X_train))\n",
    "mse_test = mean_squared_error(y_test, reg.predict(X_test))\n",
    "\n",
    "print(f\"RMSE on the training data: {np.sqrt(mse_train)}\\n\")\n",
    "print(f\"RMSE on the test data: {np.sqrt(mse_test)}\")"
   ]
  },
  {
   "cell_type": "markdown",
   "metadata": {},
   "source": [
    "##  Homework 2\n",
    "\n",
    "### Part 2: \n",
    "\n",
    "Try using ```sklearn SGDRegressor``` class instead of ```sklearn LinearRegression```. \n",
    "\n",
    "If the input variables are of different scales (here, ```TV``` and ```radio```), scaling those variables improves SGD convergence. Read about ```sklearn MinMaxScaler``` and try to see if using it will give better results.  \n",
    "\n",
    "https://scikit-learn.org/stable/modules/generated/sklearn.preprocessing.MinMaxScaler.html\n",
    "\n",
    "\n",
    "https://stackoverflow.com/questions/50565937/how-to-normalize-the-train-and-test-data-using-minmaxscaler-sklearn"
   ]
  },
  {
   "cell_type": "markdown",
   "metadata": {},
   "source": [
    "## 3) Polynomial Regression"
   ]
  },
  {
   "cell_type": "code",
   "execution_count": 41,
   "metadata": {},
   "outputs": [],
   "source": [
    "X = ads_data[['TV']]\n",
    "y = ads_data['sales']"
   ]
  },
  {
   "cell_type": "code",
   "execution_count": 47,
   "metadata": {},
   "outputs": [
    {
     "data": {
      "text/plain": [
       "array([[2.30100000e+02, 5.29460100e+04, 1.21828769e+07, 2.80327997e+09,\n",
       "        6.45034722e+11],\n",
       "       [4.45000000e+01, 1.98025000e+03, 8.81211250e+04, 3.92139006e+06,\n",
       "        1.74501858e+08],\n",
       "       [1.72000000e+01, 2.95840000e+02, 5.08844800e+03, 8.75213056e+04,\n",
       "        1.50536646e+06],\n",
       "       [1.51500000e+02, 2.29522500e+04, 3.47726588e+06, 5.26805780e+08,\n",
       "        7.98110757e+10],\n",
       "       [1.80800000e+02, 3.26886400e+04, 5.91010611e+06, 1.06854719e+09,\n",
       "        1.93193331e+11],\n",
       "       [8.70000000e+00, 7.56900000e+01, 6.58503000e+02, 5.72897610e+03,\n",
       "        4.98420921e+04],\n",
       "       [5.75000000e+01, 3.30625000e+03, 1.90109375e+05, 1.09312891e+07,\n",
       "        6.28549121e+08],\n",
       "       [1.20200000e+02, 1.44480400e+04, 1.73665441e+06, 2.08745860e+08,\n",
       "        2.50912524e+10],\n",
       "       [8.60000000e+00, 7.39600000e+01, 6.36056000e+02, 5.47008160e+03,\n",
       "        4.70427018e+04],\n",
       "       [1.99800000e+02, 3.99200400e+04, 7.97602399e+06, 1.59360959e+09,\n",
       "        3.18403197e+11],\n",
       "       [6.61000000e+01, 4.36921000e+03, 2.88804781e+05, 1.90899960e+07,\n",
       "        1.26184874e+09],\n",
       "       [2.14700000e+02, 4.60960900e+04, 9.89683052e+06, 2.12484951e+09,\n",
       "        4.56205191e+11],\n",
       "       [2.38000000e+01, 5.66440000e+02, 1.34812720e+04, 3.20854274e+05,\n",
       "        7.63633171e+06],\n",
       "       [9.75000000e+01, 9.50625000e+03, 9.26859375e+05, 9.03687891e+07,\n",
       "        8.81095693e+09],\n",
       "       [2.04100000e+02, 4.16568100e+04, 8.50215492e+06, 1.73528982e+09,\n",
       "        3.54172652e+11],\n",
       "       [1.95400000e+02, 3.81811600e+04, 7.46059866e+06, 1.45780098e+09,\n",
       "        2.84854311e+11],\n",
       "       [6.78000000e+01, 4.59684000e+03, 3.11665752e+05, 2.11309380e+07,\n",
       "        1.43267760e+09],\n",
       "       [2.81400000e+02, 7.91859600e+04, 2.22829291e+07, 6.27041626e+09,\n",
       "        1.76449514e+12],\n",
       "       [6.92000000e+01, 4.78864000e+03, 3.31373888e+05, 2.29310730e+07,\n",
       "        1.58683026e+09],\n",
       "       [1.47300000e+02, 2.16972900e+04, 3.19601082e+06, 4.70772393e+08,\n",
       "        6.93447735e+10],\n",
       "       [2.18400000e+02, 4.76985600e+04, 1.04173655e+07, 2.27515263e+09,\n",
       "        4.96893334e+11],\n",
       "       [2.37400000e+02, 5.63587600e+04, 1.33795696e+07, 3.17630983e+09,\n",
       "        7.54055953e+11],\n",
       "       [1.32000000e+01, 1.74240000e+02, 2.29996800e+03, 3.03595776e+04,\n",
       "        4.00746424e+05],\n",
       "       [2.28300000e+02, 5.21208900e+04, 1.18991992e+07, 2.71658717e+09,\n",
       "        6.20196852e+11],\n",
       "       [6.23000000e+01, 3.88129000e+03, 2.41804367e+05, 1.50644121e+07,\n",
       "        9.38512872e+08],\n",
       "       [2.62900000e+02, 6.91164100e+04, 1.81707042e+07, 4.77707813e+09,\n",
       "        1.25589384e+12],\n",
       "       [1.42900000e+02, 2.04204100e+04, 2.91807659e+06, 4.16993145e+08,\n",
       "        5.95883204e+10],\n",
       "       [2.40100000e+02, 5.76480100e+04, 1.38412872e+07, 3.32329306e+09,\n",
       "        7.97922663e+11],\n",
       "       [2.48800000e+02, 6.19014400e+04, 1.54010783e+07, 3.83178827e+09,\n",
       "        9.53348923e+11],\n",
       "       [7.06000000e+01, 4.98436000e+03, 3.51895816e+05, 2.48438446e+07,\n",
       "        1.75397543e+09],\n",
       "       [2.92900000e+02, 8.57904100e+04, 2.51280111e+07, 7.35999445e+09,\n",
       "        2.15574237e+12],\n",
       "       [1.12900000e+02, 1.27464100e+04, 1.43906969e+06, 1.62470968e+08,\n",
       "        1.83429723e+10],\n",
       "       [9.72000000e+01, 9.44784000e+03, 9.18330048e+05, 8.92616807e+07,\n",
       "        8.67623536e+09],\n",
       "       [2.65600000e+02, 7.05433600e+04, 1.87363164e+07, 4.97636564e+09,\n",
       "        1.32172271e+12],\n",
       "       [9.57000000e+01, 9.15849000e+03, 8.76467493e+05, 8.38779391e+07,\n",
       "        8.02711877e+09],\n",
       "       [2.90700000e+02, 8.45064900e+04, 2.45660366e+07, 7.14134685e+09,\n",
       "        2.07598953e+12],\n",
       "       [2.66900000e+02, 7.12356100e+04, 1.90127843e+07, 5.07451213e+09,\n",
       "        1.35438729e+12],\n",
       "       [7.47000000e+01, 5.58009000e+03, 4.16832723e+05, 3.11374044e+07,\n",
       "        2.32596411e+09],\n",
       "       [4.31000000e+01, 1.85761000e+03, 8.00629910e+04, 3.45071491e+06,\n",
       "        1.48725813e+08],\n",
       "       [2.28000000e+02, 5.19840000e+04, 1.18523520e+07, 2.70233626e+09,\n",
       "        6.16132666e+11],\n",
       "       [2.02500000e+02, 4.10062500e+04, 8.30376562e+06, 1.68151254e+09,\n",
       "        3.40506289e+11],\n",
       "       [1.77000000e+02, 3.13290000e+04, 5.54523300e+06, 9.81506241e+08,\n",
       "        1.73726605e+11],\n",
       "       [2.93600000e+02, 8.62009600e+04, 2.53086019e+07, 7.43060550e+09,\n",
       "        2.18162578e+12],\n",
       "       [2.06900000e+02, 4.28076100e+04, 8.85689451e+06, 1.83249147e+09,\n",
       "        3.79142486e+11],\n",
       "       [2.51000000e+01, 6.30010000e+02, 1.58132510e+04, 3.96912600e+05,\n",
       "        9.96250626e+06],\n",
       "       [1.75100000e+02, 3.06600100e+04, 5.36856775e+06, 9.40036213e+08,\n",
       "        1.64600341e+11],\n",
       "       [8.97000000e+01, 8.04609000e+03, 7.21734273e+05, 6.47395643e+07,\n",
       "        5.80713892e+09],\n",
       "       [2.39900000e+02, 5.75520100e+04, 1.38067272e+07, 3.31223386e+09,\n",
       "        7.94604902e+11],\n",
       "       [2.27200000e+02, 5.16198400e+04, 1.17280276e+07, 2.66460788e+09,\n",
       "        6.05398911e+11],\n",
       "       [6.69000000e+01, 4.47561000e+03, 2.99418309e+05, 2.00310849e+07,\n",
       "        1.34007958e+09],\n",
       "       [1.99800000e+02, 3.99200400e+04, 7.97602399e+06, 1.59360959e+09,\n",
       "        3.18403197e+11],\n",
       "       [1.00400000e+02, 1.00801600e+04, 1.01204806e+06, 1.01609626e+08,\n",
       "        1.02016064e+10],\n",
       "       [2.16400000e+02, 4.68289600e+04, 1.01337869e+07, 2.19295149e+09,\n",
       "        4.74554703e+11],\n",
       "       [1.82600000e+02, 3.33427600e+04, 6.08838798e+06, 1.11173964e+09,\n",
       "        2.03003659e+11],\n",
       "       [2.62700000e+02, 6.90112900e+04, 1.81292659e+07, 4.76255815e+09,\n",
       "        1.25112403e+12],\n",
       "       [1.98900000e+02, 3.95612100e+04, 7.86872467e+06, 1.56508934e+09,\n",
       "        3.11296269e+11],\n",
       "       [7.30000000e+00, 5.32900000e+01, 3.89017000e+02, 2.83982410e+03,\n",
       "        2.07307159e+04],\n",
       "       [1.36200000e+02, 1.85504400e+04, 2.52656993e+06, 3.44118824e+08,\n",
       "        4.68689839e+10],\n",
       "       [2.10800000e+02, 4.44366400e+04, 9.36724371e+06, 1.97461497e+09,\n",
       "        4.16248837e+11],\n",
       "       [2.10700000e+02, 4.43944900e+04, 9.35391904e+06, 1.97087074e+09,\n",
       "        4.15262465e+11],\n",
       "       [5.35000000e+01, 2.86225000e+03, 1.53130375e+05, 8.19247506e+06,\n",
       "        4.38297416e+08],\n",
       "       [2.61300000e+02, 6.82776900e+04, 1.78409604e+07, 4.66184295e+09,\n",
       "        1.21813956e+12],\n",
       "       [2.39300000e+02, 5.72644900e+04, 1.37033925e+07, 3.27922181e+09,\n",
       "        7.84717780e+11],\n",
       "       [1.02700000e+02, 1.05472900e+04, 1.08320668e+06, 1.11245326e+08,\n",
       "        1.14248950e+10],\n",
       "       [1.31100000e+02, 1.71872100e+04, 2.25324323e+06, 2.95400188e+08,\n",
       "        3.87269646e+10],\n",
       "       [6.90000000e+01, 4.76100000e+03, 3.28509000e+05, 2.26671210e+07,\n",
       "        1.56403135e+09],\n",
       "       [3.15000000e+01, 9.92250000e+02, 3.12558750e+04, 9.84560062e+05,\n",
       "        3.10136420e+07],\n",
       "       [1.39300000e+02, 1.94044900e+04, 2.70304546e+06, 3.76534232e+08,\n",
       "        5.24512185e+10],\n",
       "       [2.37400000e+02, 5.63587600e+04, 1.33795696e+07, 3.17630983e+09,\n",
       "        7.54055953e+11],\n",
       "       [2.16800000e+02, 4.70022400e+04, 1.01900856e+07, 2.20921057e+09,\n",
       "        4.78956850e+11],\n",
       "       [1.99100000e+02, 3.96408100e+04, 7.89248527e+06, 1.57139382e+09,\n",
       "        3.12864509e+11],\n",
       "       [1.09800000e+02, 1.20560400e+04, 1.32375319e+06, 1.45348100e+08,\n",
       "        1.59592214e+10],\n",
       "       [2.68000000e+01, 7.18240000e+02, 1.92488320e+04, 5.15868698e+05,\n",
       "        1.38252811e+07],\n",
       "       [1.29400000e+02, 1.67443600e+04, 2.16672018e+06, 2.80373592e+08,\n",
       "        3.62803428e+10],\n",
       "       [2.13400000e+02, 4.55395600e+04, 9.71814210e+06, 2.07385152e+09,\n",
       "        4.42559915e+11],\n",
       "       [1.69000000e+01, 2.85610000e+02, 4.82680900e+03, 8.15730721e+04,\n",
       "        1.37858492e+06],\n",
       "       [2.75000000e+01, 7.56250000e+02, 2.07968750e+04, 5.71914062e+05,\n",
       "        1.57276367e+07],\n",
       "       [1.20500000e+02, 1.45202500e+04, 1.74969012e+06, 2.10837660e+08,\n",
       "        2.54059380e+10],\n",
       "       [5.40000000e+00, 2.91600000e+01, 1.57464000e+02, 8.50305600e+02,\n",
       "        4.59165024e+03],\n",
       "       [1.16000000e+02, 1.34560000e+04, 1.56089600e+06, 1.81063936e+08,\n",
       "        2.10034166e+10],\n",
       "       [7.64000000e+01, 5.83696000e+03, 4.45943744e+05, 3.40701020e+07,\n",
       "        2.60295580e+09],\n",
       "       [2.39800000e+02, 5.75040400e+04, 1.37894688e+07, 3.30671462e+09,\n",
       "        7.92950165e+11],\n",
       "       [7.53000000e+01, 5.67009000e+03, 4.26957777e+05, 3.21499206e+07,\n",
       "        2.42088902e+09],\n",
       "       [6.84000000e+01, 4.67856000e+03, 3.20013504e+05, 2.18889237e+07,\n",
       "        1.49720238e+09],\n",
       "       [2.13500000e+02, 4.55822500e+04, 9.73181038e+06, 2.07774152e+09,\n",
       "        4.43597813e+11],\n",
       "       [1.93200000e+02, 3.73262400e+04, 7.21142957e+06, 1.39324819e+09,\n",
       "        2.69175551e+11],\n",
       "       [7.63000000e+01, 5.82169000e+03, 4.44194947e+05, 3.38920745e+07,\n",
       "        2.58596528e+09],\n",
       "       [1.10700000e+02, 1.22544900e+04, 1.35657204e+06, 1.50172525e+08,\n",
       "        1.66240985e+10],\n",
       "       [8.83000000e+01, 7.79689000e+03, 6.88465387e+05, 6.07914937e+07,\n",
       "        5.36788889e+09],\n",
       "       [1.09800000e+02, 1.20560400e+04, 1.32375319e+06, 1.45348100e+08,\n",
       "        1.59592214e+10],\n",
       "       [1.34300000e+02, 1.80364900e+04, 2.42230061e+06, 3.25314972e+08,\n",
       "        4.36898007e+10],\n",
       "       [2.86000000e+01, 8.17960000e+02, 2.33936560e+04, 6.69058562e+05,\n",
       "        1.91350749e+07],\n",
       "       [2.17700000e+02, 4.73932900e+04, 1.03175192e+07, 2.24612394e+09,\n",
       "        4.88981181e+11],\n",
       "       [2.50900000e+02, 6.29508100e+04, 1.57943582e+07, 3.96280448e+09,\n",
       "        9.94267644e+11],\n",
       "       [1.07400000e+02, 1.15347600e+04, 1.23883322e+06, 1.33050688e+08,\n",
       "        1.42896439e+10],\n",
       "       [1.63300000e+02, 2.66668900e+04, 4.35470314e+06, 7.11123022e+08,\n",
       "        1.16126390e+11],\n",
       "       [1.97600000e+02, 3.90457600e+04, 7.71544218e+06, 1.52457137e+09,\n",
       "        3.01255303e+11],\n",
       "       [1.84900000e+02, 3.41880100e+04, 6.32136305e+06, 1.16882003e+09,\n",
       "        2.16114823e+11],\n",
       "       [2.89700000e+02, 8.39260900e+04, 2.43133883e+07, 7.04358858e+09,\n",
       "        2.04052761e+12],\n",
       "       [1.35200000e+02, 1.82790400e+04, 2.47132621e+06, 3.34123303e+08,\n",
       "        4.51734706e+10],\n",
       "       [2.22400000e+02, 4.94617600e+04, 1.10002954e+07, 2.44646570e+09,\n",
       "        5.44093972e+11],\n",
       "       [2.96400000e+02, 8.78529600e+04, 2.60396173e+07, 7.71814258e+09,\n",
       "        2.28765746e+12],\n",
       "       [2.80200000e+02, 7.85120400e+04, 2.19990736e+07, 6.16414042e+09,\n",
       "        1.72719215e+12],\n",
       "       [1.87900000e+02, 3.53064100e+04, 6.63407444e+06, 1.24654259e+09,\n",
       "        2.34225352e+11],\n",
       "       [2.38200000e+02, 5.67392400e+04, 1.35152870e+07, 3.21934136e+09,\n",
       "        7.66847111e+11],\n",
       "       [1.37900000e+02, 1.90164100e+04, 2.62236294e+06, 3.61623849e+08,\n",
       "        4.98679288e+10],\n",
       "       [2.50000000e+01, 6.25000000e+02, 1.56250000e+04, 3.90625000e+05,\n",
       "        9.76562500e+06],\n",
       "       [9.04000000e+01, 8.17216000e+03, 7.38763264e+05, 6.67841991e+07,\n",
       "        6.03729160e+09],\n",
       "       [1.31000000e+01, 1.71610000e+02, 2.24809100e+03, 2.94499921e+04,\n",
       "        3.85794897e+05],\n",
       "       [2.55400000e+02, 6.52291600e+04, 1.66595275e+07, 4.25484331e+09,\n",
       "        1.08668698e+12],\n",
       "       [2.25800000e+02, 5.09856400e+04, 1.15125575e+07, 2.59953549e+09,\n",
       "        5.86975113e+11],\n",
       "       [2.41700000e+02, 5.84188900e+04, 1.41198457e+07, 3.41276671e+09,\n",
       "        8.24865714e+11],\n",
       "       [1.75700000e+02, 3.08704900e+04, 5.42394509e+06, 9.52987153e+08,\n",
       "        1.67439843e+11],\n",
       "       [2.09600000e+02, 4.39321600e+04, 9.20818074e+06, 1.93003468e+09,\n",
       "        4.04535269e+11],\n",
       "       [7.82000000e+01, 6.11524000e+03, 4.78211768e+05, 3.73961603e+07,\n",
       "        2.92437973e+09],\n",
       "       [7.51000000e+01, 5.64001000e+03, 4.23564751e+05, 3.18097128e+07,\n",
       "        2.38890943e+09],\n",
       "       [1.39200000e+02, 1.93766400e+04, 2.69722829e+06, 3.75454178e+08,\n",
       "        5.22632215e+10],\n",
       "       [7.64000000e+01, 5.83696000e+03, 4.45943744e+05, 3.40701020e+07,\n",
       "        2.60295580e+09],\n",
       "       [1.25700000e+02, 1.58004900e+04, 1.98612159e+06, 2.49655484e+08,\n",
       "        3.13816944e+10],\n",
       "       [1.94000000e+01, 3.76360000e+02, 7.30138400e+03, 1.41646850e+05,\n",
       "        2.74794888e+06],\n",
       "       [1.41300000e+02, 1.99656900e+04, 2.82115200e+06, 3.98628777e+08,\n",
       "        5.63262462e+10],\n",
       "       [1.88000000e+01, 3.53440000e+02, 6.64467200e+03, 1.24919834e+05,\n",
       "        2.34849287e+06],\n",
       "       [2.24000000e+02, 5.01760000e+04, 1.12394240e+07, 2.51763098e+09,\n",
       "        5.63949339e+11],\n",
       "       [1.23100000e+02, 1.51536100e+04, 1.86540939e+06, 2.29631896e+08,\n",
       "        2.82676864e+10],\n",
       "       [2.29500000e+02, 5.26702500e+04, 1.20878224e+07, 2.77415524e+09,\n",
       "        6.36668626e+11],\n",
       "       [8.72000000e+01, 7.60384000e+03, 6.63054848e+05, 5.78183827e+07,\n",
       "        5.04176298e+09],\n",
       "       [7.80000000e+00, 6.08400000e+01, 4.74552000e+02, 3.70150560e+03,\n",
       "        2.88717437e+04],\n",
       "       [8.02000000e+01, 6.43204000e+03, 5.15849608e+05, 4.13711386e+07,\n",
       "        3.31796531e+09],\n",
       "       [2.20300000e+02, 4.85320900e+04, 1.06916194e+07, 2.35536376e+09,\n",
       "        5.18886636e+11],\n",
       "       [5.96000000e+01, 3.55216000e+03, 2.11708736e+05, 1.26178407e+07,\n",
       "        7.52023304e+08],\n",
       "       [7.00000000e-01, 4.90000000e-01, 3.43000000e-01, 2.40100000e-01,\n",
       "        1.68070000e-01],\n",
       "       [2.65200000e+02, 7.03310400e+04, 1.86517918e+07, 4.94645519e+09,\n",
       "        1.31179992e+12],\n",
       "       [8.40000000e+00, 7.05600000e+01, 5.92704000e+02, 4.97871360e+03,\n",
       "        4.18211942e+04],\n",
       "       [2.19800000e+02, 4.83120400e+04, 1.06189864e+07, 2.33405321e+09,\n",
       "        5.13024895e+11],\n",
       "       [3.69000000e+01, 1.36161000e+03, 5.02434090e+04, 1.85398179e+06,\n",
       "        6.84119281e+07],\n",
       "       [4.83000000e+01, 2.33289000e+03, 1.12678587e+05, 5.44237575e+06,\n",
       "        2.62866749e+08],\n",
       "       [2.56000000e+01, 6.55360000e+02, 1.67772160e+04, 4.29496730e+05,\n",
       "        1.09951163e+07],\n",
       "       [2.73700000e+02, 7.49116900e+04, 2.05033296e+07, 5.61176130e+09,\n",
       "        1.53593907e+12],\n",
       "       [4.30000000e+01, 1.84900000e+03, 7.95070000e+04, 3.41880100e+06,\n",
       "        1.47008443e+08],\n",
       "       [1.84900000e+02, 3.41880100e+04, 6.32136305e+06, 1.16882003e+09,\n",
       "        2.16114823e+11],\n",
       "       [7.34000000e+01, 5.38756000e+03, 3.95446904e+05, 2.90258028e+07,\n",
       "        2.13049392e+09],\n",
       "       [1.93700000e+02, 3.75196900e+04, 7.26756395e+06, 1.40772714e+09,\n",
       "        2.72676747e+11],\n",
       "       [2.20500000e+02, 4.86202500e+04, 1.07207651e+07, 2.36392871e+09,\n",
       "        5.21246281e+11],\n",
       "       [1.04600000e+02, 1.09411600e+04, 1.14444534e+06, 1.19708982e+08,\n",
       "        1.25215595e+10],\n",
       "       [9.62000000e+01, 9.25444000e+03, 8.90277128e+05, 8.56446597e+07,\n",
       "        8.23901626e+09],\n",
       "       [1.40300000e+02, 1.96840900e+04, 2.76167783e+06, 3.87463399e+08,\n",
       "        5.43611149e+10],\n",
       "       [2.40100000e+02, 5.76480100e+04, 1.38412872e+07, 3.32329306e+09,\n",
       "        7.97922663e+11],\n",
       "       [2.43200000e+02, 5.91462400e+04, 1.43843656e+07, 3.49827771e+09,\n",
       "        8.50781138e+11],\n",
       "       [3.80000000e+01, 1.44400000e+03, 5.48720000e+04, 2.08513600e+06,\n",
       "        7.92351680e+07],\n",
       "       [4.47000000e+01, 1.99809000e+03, 8.93146230e+04, 3.99236365e+06,\n",
       "        1.78458655e+08],\n",
       "       [2.80700000e+02, 7.87924900e+04, 2.21170519e+07, 6.20825648e+09,\n",
       "        1.74265759e+12],\n",
       "       [1.21000000e+02, 1.46410000e+04, 1.77156100e+06, 2.14358881e+08,\n",
       "        2.59374246e+10],\n",
       "       [1.97600000e+02, 3.90457600e+04, 7.71544218e+06, 1.52457137e+09,\n",
       "        3.01255303e+11],\n",
       "       [1.71300000e+02, 2.93436900e+04, 5.02657410e+06, 8.61052143e+08,\n",
       "        1.47498232e+11],\n",
       "       [1.87800000e+02, 3.52688400e+04, 6.62348815e+06, 1.24389107e+09,\n",
       "        2.33602744e+11],\n",
       "       [4.10000000e+00, 1.68100000e+01, 6.89210000e+01, 2.82576100e+02,\n",
       "        1.15856201e+03],\n",
       "       [9.39000000e+01, 8.81721000e+03, 8.27936019e+05, 7.77431922e+07,\n",
       "        7.30008575e+09],\n",
       "       [1.49800000e+02, 2.24400400e+04, 3.36151799e+06, 5.03555395e+08,\n",
       "        7.54325982e+10],\n",
       "       [1.17000000e+01, 1.36890000e+02, 1.60161300e+03, 1.87388721e+04,\n",
       "        2.19244804e+05],\n",
       "       [1.31700000e+02, 1.73448900e+04, 2.28432201e+06, 3.00845209e+08,\n",
       "        3.96213140e+10],\n",
       "       [1.72500000e+02, 2.97562500e+04, 5.13295312e+06, 8.85434414e+08,\n",
       "        1.52737436e+11],\n",
       "       [8.57000000e+01, 7.34449000e+03, 6.29422793e+05, 5.39415334e+07,\n",
       "        4.62278941e+09],\n",
       "       [1.88400000e+02, 3.54945600e+04, 6.68717510e+06, 1.25986379e+09,\n",
       "        2.37358338e+11],\n",
       "       [1.63500000e+02, 2.67322500e+04, 4.37072288e+06, 7.14613190e+08,\n",
       "        1.16839257e+11],\n",
       "       [1.17200000e+02, 1.37358400e+04, 1.60984045e+06, 1.88673301e+08,\n",
       "        2.21125108e+10],\n",
       "       [2.34500000e+02, 5.49902500e+04, 1.28952136e+07, 3.02392760e+09,\n",
       "        7.09111021e+11],\n",
       "       [1.79000000e+01, 3.20410000e+02, 5.73533900e+03, 1.02662568e+05,\n",
       "        1.83765997e+06],\n",
       "       [2.06800000e+02, 4.27662400e+04, 8.84405843e+06, 1.82895128e+09,\n",
       "        3.78227125e+11],\n",
       "       [2.15400000e+02, 4.63971600e+04, 9.99394826e+06, 2.15269646e+09,\n",
       "        4.63690817e+11],\n",
       "       [2.84300000e+02, 8.08264900e+04, 2.29789711e+07, 6.53292149e+09,\n",
       "        1.85730958e+12],\n",
       "       [5.00000000e+01, 2.50000000e+03, 1.25000000e+05, 6.25000000e+06,\n",
       "        3.12500000e+08],\n",
       "       [1.64500000e+02, 2.70602500e+04, 4.45141112e+06, 7.32257130e+08,\n",
       "        1.20456298e+11],\n",
       "       [1.96000000e+01, 3.84160000e+02, 7.52953600e+03, 1.47578906e+05,\n",
       "        2.89254655e+06],\n",
       "       [1.68400000e+02, 2.83585600e+04, 4.77558150e+06, 8.04207925e+08,\n",
       "        1.35428615e+11],\n",
       "       [2.22400000e+02, 4.94617600e+04, 1.10002954e+07, 2.44646570e+09,\n",
       "        5.44093972e+11],\n",
       "       [2.76900000e+02, 7.66736100e+04, 2.12309226e+07, 5.87884247e+09,\n",
       "        1.62785148e+12],\n",
       "       [2.48400000e+02, 6.17025600e+04, 1.53269159e+07, 3.80720591e+09,\n",
       "        9.45709948e+11],\n",
       "       [1.70200000e+02, 2.89680400e+04, 4.93036041e+06, 8.39147341e+08,\n",
       "        1.42822878e+11],\n",
       "       [2.76700000e+02, 7.65628900e+04, 2.11849517e+07, 5.86187613e+09,\n",
       "        1.62198112e+12],\n",
       "       [1.65600000e+02, 2.74233600e+04, 4.54130842e+06, 7.52040674e+08,\n",
       "        1.24537936e+11],\n",
       "       [1.56600000e+02, 2.45235600e+04, 3.84038950e+06, 6.01404995e+08,\n",
       "        9.41800222e+10],\n",
       "       [2.18500000e+02, 4.77422500e+04, 1.04316816e+07, 2.27932244e+09,\n",
       "        4.98031952e+11],\n",
       "       [5.62000000e+01, 3.15844000e+03, 1.77504328e+05, 9.97574323e+06,\n",
       "        5.60636770e+08],\n",
       "       [2.87600000e+02, 8.27137600e+04, 2.37884774e+07, 6.84156609e+09,\n",
       "        1.96763441e+12],\n",
       "       [2.53800000e+02, 6.44144400e+04, 1.63483849e+07, 4.14922008e+09,\n",
       "        1.05307206e+12],\n",
       "       [2.05000000e+02, 4.20250000e+04, 8.61512500e+06, 1.76610062e+09,\n",
       "        3.62050628e+11],\n",
       "       [1.39500000e+02, 1.94602500e+04, 2.71470488e+06, 3.78701330e+08,\n",
       "        5.28288355e+10],\n",
       "       [1.91100000e+02, 3.65192100e+04, 6.97882103e+06, 1.33365270e+09,\n",
       "        2.54861031e+11],\n",
       "       [2.86000000e+02, 8.17960000e+04, 2.33936560e+07, 6.69058562e+09,\n",
       "        1.91350749e+12],\n",
       "       [1.87000000e+01, 3.49690000e+02, 6.53920300e+03, 1.22283096e+05,\n",
       "        2.28669390e+06],\n",
       "       [3.95000000e+01, 1.56025000e+03, 6.16298750e+04, 2.43438006e+06,\n",
       "        9.61580125e+07],\n",
       "       [7.55000000e+01, 5.70025000e+03, 4.30368875e+05, 3.24928501e+07,\n",
       "        2.45321018e+09],\n",
       "       [1.72000000e+01, 2.95840000e+02, 5.08844800e+03, 8.75213056e+04,\n",
       "        1.50536646e+06],\n",
       "       [1.66800000e+02, 2.78222400e+04, 4.64074963e+06, 7.74077039e+08,\n",
       "        1.29116050e+11],\n",
       "       [1.49700000e+02, 2.24100900e+04, 3.35479047e+06, 5.02212134e+08,\n",
       "        7.51811564e+10],\n",
       "       [3.82000000e+01, 1.45924000e+03, 5.57429680e+04, 2.12938138e+06,\n",
       "        8.13423686e+07],\n",
       "       [9.42000000e+01, 8.87364000e+03, 8.35896888e+05, 7.87414868e+07,\n",
       "        7.41744806e+09],\n",
       "       [1.77000000e+02, 3.13290000e+04, 5.54523300e+06, 9.81506241e+08,\n",
       "        1.73726605e+11],\n",
       "       [2.83600000e+02, 8.04289600e+04, 2.28096531e+07, 6.46881761e+09,\n",
       "        1.83455667e+12],\n",
       "       [2.32100000e+02, 5.38704100e+04, 1.25033222e+07, 2.90202107e+09,\n",
       "        6.73559091e+11]])"
      ]
     },
     "execution_count": 47,
     "metadata": {},
     "output_type": "execute_result"
    }
   ],
   "source": [
    "from sklearn.preprocessing import PolynomialFeatures\n",
    "\n",
    "poly_features = PolynomialFeatures(degree=5, include_bias=False)     # try also degree 5 and 10\n",
    "\n",
    "X_poly = poly_features.fit_transform(X)\n",
    "\n",
    "X_poly"
   ]
  },
  {
   "cell_type": "code",
   "execution_count": 48,
   "metadata": {},
   "outputs": [
    {
     "data": {
      "text/plain": [
       "LinearRegression()"
      ]
     },
     "execution_count": 48,
     "metadata": {},
     "output_type": "execute_result"
    }
   ],
   "source": [
    "model = LinearRegression()\n",
    "model.fit(X_poly, y)"
   ]
  },
  {
   "cell_type": "code",
   "execution_count": 49,
   "metadata": {},
   "outputs": [
    {
     "data": {
      "text/plain": [
       "(array([ 2.77902839e-01, -4.26334400e-03,  3.38693899e-05, -1.20207585e-07,\n",
       "         1.55728366e-10]),\n",
       " 3.4345346719094536)"
      ]
     },
     "execution_count": 49,
     "metadata": {},
     "output_type": "execute_result"
    }
   ],
   "source": [
    "w = model.coef_\n",
    "b = model.intercept_\n",
    "w,b"
   ]
  },
  {
   "cell_type": "code",
   "execution_count": 50,
   "metadata": {},
   "outputs": [
    {
     "name": "stdout",
     "output_type": "stream",
     "text": [
      "The regression model is: \n",
      " \n",
      "h(x) = 0.2779*x + -0.00426*x^2 + -0.00426*x^3 + 3.43453\n"
     ]
    }
   ],
   "source": [
    "print(f\"The regression model is: \\n \")\n",
    "print(f\"h(x) = {np.round(w[0],5)}*x + {np.round(w[1],5)}*x^2 + {np.round(w[1],5)}*x^3 + {np.round(b,5)}\")"
   ]
  },
  {
   "cell_type": "code",
   "execution_count": 51,
   "metadata": {},
   "outputs": [
    {
     "data": {
      "image/png": "[encoded data removed]",
      "text/plain": [
       "<Figure size 576x432 with 1 Axes>"
      ]
     },
     "metadata": {
      "needs_background": "light"
     },
     "output_type": "display_data"
    }
   ],
   "source": [
    "domain_x = np.linspace(X.min(), X.max(), 100)\n",
    "\n",
    "domain_y = model.predict(poly_features.fit_transform(domain_x))\n",
    "\n",
    "plt.figure(figsize = (8, 6))\n",
    "\n",
    "plt.scatter(X, y)\n",
    "plt.plot(domain_x, domain_y, color=\"red\")\n",
    "plt.title('Polynomial Regression Model', fontsize=18)\n",
    "plt.xlabel('TV', fontsize=15)\n",
    "plt.ylabel('sales', fontsize=15)\n",
    "plt.grid();"
   ]
  },
  {
   "cell_type": "markdown",
   "metadata": {},
   "source": [
    "---\n",
    "\n",
    "**Note:** If we have two inputs features $a$ and $b$, ```PolynomialFeatures``` with ```degree=3``` and ```include_bias=True``` will produce features\n",
    "\n",
    "$1$, $a$, $b$, $a^2$, $a^3$, $b^2$, $b^3$, as well as $ab$, $a^2b$, and $ab^2$. "
   ]
  },
  {
   "cell_type": "markdown",
   "metadata": {},
   "source": [
    "##  Homework 2\n",
    "\n",
    "### Part 3: \n",
    "\n",
    "Import the data file ```mtcars.csv```. The goal is\n",
    "to determine two or three continuous numerical variables that can be used to predict mpg\n",
    "(miles per gallon) using multiple linear regression. You can use ```sklearn``` or custom class; batch GD, SGD, or mini-batch SGD; \n",
    "and scaling.  \n",
    "\n",
    "### Part 4:  \n",
    "\n",
    "Read about Probabilistic Interpretation of Linear Regression -- reference [1] in lecture notes, pages 11-13."
   ]
  },
  {
   "cell_type": "code",
   "execution_count": null,
   "metadata": {},
   "outputs": [],
   "source": []
  }
 ],
 "metadata": {
  "@webio": {
   "lastCommId": null,
   "lastKernelId": null
  },
  "interpreter": {
   "hash": "40d3a090f54c6569ab1632332b64b2c03c39dcf918b08424e98f38b5ae0af88f"
  },
  "kernelspec": {
   "display_name": "Python 3",
   "language": "python",
   "name": "python3"
  },
  "language_info": {
   "codemirror_mode": {
    "name": "ipython",
    "version": 3
   },
   "file_extension": ".py",
   "mimetype": "text/x-python",
   "name": "python",
   "nbconvert_exporter": "python",
   "pygments_lexer": "ipython3",
   "version": "3.6.2"
  }
 },
 "nbformat": 4,
 "nbformat_minor": 2
}
